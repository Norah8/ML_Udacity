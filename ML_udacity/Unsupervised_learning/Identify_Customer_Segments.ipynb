{
 "cells": [
  {
   "cell_type": "markdown",
   "metadata": {},
   "source": [
    "# Project: Identify Customer Segments\n",
    "\n",
    "In this project, you will apply unsupervised learning techniques to identify segments of the population that form the core customer base for a mail-order sales company in Germany. These segments can then be used to direct marketing campaigns towards audiences that will have the highest expected rate of returns. The data that you will use has been provided by our partners at Bertelsmann Arvato Analytics, and represents a real-life data science task.\n",
    "\n",
    "This notebook will help you complete this task by providing a framework within which you will perform your analysis steps. In each step of the project, you will see some text describing the subtask that you will perform, followed by one or more code cells for you to complete your work. **Feel free to add additional code and markdown cells as you go along so that you can explore everything in precise chunks.** The code cells provided in the base template will outline only the major tasks, and will usually not be enough to cover all of the minor tasks that comprise it.\n",
    "\n",
    "It should be noted that while there will be precise guidelines on how you should handle certain tasks in the project, there will also be places where an exact specification is not provided. **There will be times in the project where you will need to make and justify your own decisions on how to treat the data.** These are places where there may not be only one way to handle the data. In real-life tasks, there may be many valid ways to approach an analysis task. One of the most important things you can do is clearly document your approach so that other scientists can understand the decisions you've made.\n",
    "\n",
    "At the end of most sections, there will be a Markdown cell labeled **Discussion**. In these cells, you will report your findings for the completed section, as well as document the decisions that you made in your approach to each subtask. **Your project will be evaluated not just on the code used to complete the tasks outlined, but also your communication about your observations and conclusions at each stage.**"
   ]
  },
  {
   "cell_type": "code",
   "execution_count": 1,
   "metadata": {},
   "outputs": [
    {
     "data": {
      "text/plain": [
       "'\\nImport note: The classroom currently uses sklearn version 0.19.\\nIf you need to use an imputer, it is available in sklearn.preprocessing.Imputer,\\ninstead of sklearn.impute as in newer versions of sklearn.\\n'"
      ]
     },
     "execution_count": 1,
     "metadata": {},
     "output_type": "execute_result"
    }
   ],
   "source": [
    "# import libraries here; add more as necessary\n",
    "import numpy as np\n",
    "import pandas as pd\n",
    "import matplotlib.pyplot as plt\n",
    "import seaborn as sns\n",
    "\n",
    "from sklearn.preprocessing import Imputer\n",
    "from sklearn.preprocessing import StandardScaler\n",
    "from sklearn.decomposition import PCA\n",
    "from sklearn.cluster import KMeans\n",
    "\n",
    "# magic word for producing visualizations in notebook\n",
    "%matplotlib inline\n",
    "\n",
    "'''\n",
    "Import note: The classroom currently uses sklearn version 0.19.\n",
    "If you need to use an imputer, it is available in sklearn.preprocessing.Imputer,\n",
    "instead of sklearn.impute as in newer versions of sklearn.\n",
    "'''"
   ]
  },
  {
   "cell_type": "markdown",
   "metadata": {},
   "source": [
    "### Step 0: Load the Data\n",
    "\n",
    "There are four files associated with this project (not including this one):\n",
    "\n",
    "- `Udacity_AZDIAS_Subset.csv`: Demographics data for the general population of Germany; 891211 persons (rows) x 85 features (columns).\n",
    "- `Udacity_CUSTOMERS_Subset.csv`: Demographics data for customers of a mail-order company; 191652 persons (rows) x 85 features (columns).\n",
    "- `Data_Dictionary.md`: Detailed information file about the features in the provided datasets.\n",
    "- `AZDIAS_Feature_Summary.csv`: Summary of feature attributes for demographics data; 85 features (rows) x 4 columns\n",
    "\n",
    "Each row of the demographics files represents a single person, but also includes information outside of individuals, including information about their household, building, and neighborhood. You will use this information to cluster the general population into groups with similar demographic properties. Then, you will see how the people in the customers dataset fit into those created clusters. The hope here is that certain clusters are over-represented in the customers data, as compared to the general population; those over-represented clusters will be assumed to be part of the core userbase. This information can then be used for further applications, such as targeting for a marketing campaign.\n",
    "\n",
    "To start off with, load in the demographics data for the general population into a pandas DataFrame, and do the same for the feature attributes summary. Note for all of the `.csv` data files in this project: they're semicolon (`;`) delimited, so you'll need an additional argument in your [`read_csv()`](https://pandas.pydata.org/pandas-docs/stable/generated/pandas.read_csv.html) call to read in the data properly. Also, considering the size of the main dataset, it may take some time for it to load completely.\n",
    "\n",
    "Once the dataset is loaded, it's recommended that you take a little bit of time just browsing the general structure of the dataset and feature summary file. You'll be getting deep into the innards of the cleaning in the first major step of the project, so gaining some general familiarity can help you get your bearings."
   ]
  },
  {
   "cell_type": "code",
   "execution_count": 141,
   "metadata": {},
   "outputs": [],
   "source": [
    "# Load in the general demographics data.\n",
    "azdias = pd.read_csv(\"Udacity_AZDIAS_Subset.csv\", sep=';')\n",
    "\n",
    "# Load in the feature summary file.\n",
    "feat_info = pd.read_csv(\"AZDIAS_Feature_Summary.csv\", sep=';')"
   ]
  },
  {
   "cell_type": "code",
   "execution_count": 142,
   "metadata": {},
   "outputs": [
    {
     "data": {
      "text/html": [
       "<div>\n",
       "<style scoped>\n",
       "    .dataframe tbody tr th:only-of-type {\n",
       "        vertical-align: middle;\n",
       "    }\n",
       "\n",
       "    .dataframe tbody tr th {\n",
       "        vertical-align: top;\n",
       "    }\n",
       "\n",
       "    .dataframe thead th {\n",
       "        text-align: right;\n",
       "    }\n",
       "</style>\n",
       "<table border=\"1\" class=\"dataframe\">\n",
       "  <thead>\n",
       "    <tr style=\"text-align: right;\">\n",
       "      <th></th>\n",
       "      <th>attribute</th>\n",
       "      <th>information_level</th>\n",
       "      <th>type</th>\n",
       "      <th>missing_or_unknown</th>\n",
       "    </tr>\n",
       "  </thead>\n",
       "  <tbody>\n",
       "    <tr>\n",
       "      <th>0</th>\n",
       "      <td>AGER_TYP</td>\n",
       "      <td>person</td>\n",
       "      <td>categorical</td>\n",
       "      <td>[-1,0]</td>\n",
       "    </tr>\n",
       "    <tr>\n",
       "      <th>1</th>\n",
       "      <td>ALTERSKATEGORIE_GROB</td>\n",
       "      <td>person</td>\n",
       "      <td>ordinal</td>\n",
       "      <td>[-1,0,9]</td>\n",
       "    </tr>\n",
       "    <tr>\n",
       "      <th>2</th>\n",
       "      <td>ANREDE_KZ</td>\n",
       "      <td>person</td>\n",
       "      <td>categorical</td>\n",
       "      <td>[-1,0]</td>\n",
       "    </tr>\n",
       "    <tr>\n",
       "      <th>3</th>\n",
       "      <td>CJT_GESAMTTYP</td>\n",
       "      <td>person</td>\n",
       "      <td>categorical</td>\n",
       "      <td>[0]</td>\n",
       "    </tr>\n",
       "    <tr>\n",
       "      <th>4</th>\n",
       "      <td>FINANZ_MINIMALIST</td>\n",
       "      <td>person</td>\n",
       "      <td>ordinal</td>\n",
       "      <td>[-1]</td>\n",
       "    </tr>\n",
       "  </tbody>\n",
       "</table>\n",
       "</div>"
      ],
      "text/plain": [
       "              attribute information_level         type missing_or_unknown\n",
       "0              AGER_TYP            person  categorical             [-1,0]\n",
       "1  ALTERSKATEGORIE_GROB            person      ordinal           [-1,0,9]\n",
       "2             ANREDE_KZ            person  categorical             [-1,0]\n",
       "3         CJT_GESAMTTYP            person  categorical                [0]\n",
       "4     FINANZ_MINIMALIST            person      ordinal               [-1]"
      ]
     },
     "execution_count": 142,
     "metadata": {},
     "output_type": "execute_result"
    }
   ],
   "source": [
    "feat_info.head()"
   ]
  },
  {
   "cell_type": "code",
   "execution_count": 143,
   "metadata": {},
   "outputs": [
    {
     "name": "stdout",
     "output_type": "stream",
     "text": [
      "(891221, 85)\n"
     ]
    },
    {
     "data": {
      "text/html": [
       "<div>\n",
       "<style scoped>\n",
       "    .dataframe tbody tr th:only-of-type {\n",
       "        vertical-align: middle;\n",
       "    }\n",
       "\n",
       "    .dataframe tbody tr th {\n",
       "        vertical-align: top;\n",
       "    }\n",
       "\n",
       "    .dataframe thead th {\n",
       "        text-align: right;\n",
       "    }\n",
       "</style>\n",
       "<table border=\"1\" class=\"dataframe\">\n",
       "  <thead>\n",
       "    <tr style=\"text-align: right;\">\n",
       "      <th></th>\n",
       "      <th>AGER_TYP</th>\n",
       "      <th>ALTERSKATEGORIE_GROB</th>\n",
       "      <th>ANREDE_KZ</th>\n",
       "      <th>CJT_GESAMTTYP</th>\n",
       "      <th>FINANZ_MINIMALIST</th>\n",
       "      <th>FINANZ_SPARER</th>\n",
       "      <th>FINANZ_VORSORGER</th>\n",
       "      <th>FINANZ_ANLEGER</th>\n",
       "      <th>FINANZ_UNAUFFAELLIGER</th>\n",
       "      <th>FINANZ_HAUSBAUER</th>\n",
       "      <th>...</th>\n",
       "      <th>PLZ8_ANTG1</th>\n",
       "      <th>PLZ8_ANTG2</th>\n",
       "      <th>PLZ8_ANTG3</th>\n",
       "      <th>PLZ8_ANTG4</th>\n",
       "      <th>PLZ8_BAUMAX</th>\n",
       "      <th>PLZ8_HHZ</th>\n",
       "      <th>PLZ8_GBZ</th>\n",
       "      <th>ARBEIT</th>\n",
       "      <th>ORTSGR_KLS9</th>\n",
       "      <th>RELAT_AB</th>\n",
       "    </tr>\n",
       "  </thead>\n",
       "  <tbody>\n",
       "    <tr>\n",
       "      <th>0</th>\n",
       "      <td>-1</td>\n",
       "      <td>2</td>\n",
       "      <td>1</td>\n",
       "      <td>2.0</td>\n",
       "      <td>3</td>\n",
       "      <td>4</td>\n",
       "      <td>3</td>\n",
       "      <td>5</td>\n",
       "      <td>5</td>\n",
       "      <td>3</td>\n",
       "      <td>...</td>\n",
       "      <td>NaN</td>\n",
       "      <td>NaN</td>\n",
       "      <td>NaN</td>\n",
       "      <td>NaN</td>\n",
       "      <td>NaN</td>\n",
       "      <td>NaN</td>\n",
       "      <td>NaN</td>\n",
       "      <td>NaN</td>\n",
       "      <td>NaN</td>\n",
       "      <td>NaN</td>\n",
       "    </tr>\n",
       "    <tr>\n",
       "      <th>1</th>\n",
       "      <td>-1</td>\n",
       "      <td>1</td>\n",
       "      <td>2</td>\n",
       "      <td>5.0</td>\n",
       "      <td>1</td>\n",
       "      <td>5</td>\n",
       "      <td>2</td>\n",
       "      <td>5</td>\n",
       "      <td>4</td>\n",
       "      <td>5</td>\n",
       "      <td>...</td>\n",
       "      <td>2.0</td>\n",
       "      <td>3.0</td>\n",
       "      <td>2.0</td>\n",
       "      <td>1.0</td>\n",
       "      <td>1.0</td>\n",
       "      <td>5.0</td>\n",
       "      <td>4.0</td>\n",
       "      <td>3.0</td>\n",
       "      <td>5.0</td>\n",
       "      <td>4.0</td>\n",
       "    </tr>\n",
       "    <tr>\n",
       "      <th>2</th>\n",
       "      <td>-1</td>\n",
       "      <td>3</td>\n",
       "      <td>2</td>\n",
       "      <td>3.0</td>\n",
       "      <td>1</td>\n",
       "      <td>4</td>\n",
       "      <td>1</td>\n",
       "      <td>2</td>\n",
       "      <td>3</td>\n",
       "      <td>5</td>\n",
       "      <td>...</td>\n",
       "      <td>3.0</td>\n",
       "      <td>3.0</td>\n",
       "      <td>1.0</td>\n",
       "      <td>0.0</td>\n",
       "      <td>1.0</td>\n",
       "      <td>4.0</td>\n",
       "      <td>4.0</td>\n",
       "      <td>3.0</td>\n",
       "      <td>5.0</td>\n",
       "      <td>2.0</td>\n",
       "    </tr>\n",
       "    <tr>\n",
       "      <th>3</th>\n",
       "      <td>2</td>\n",
       "      <td>4</td>\n",
       "      <td>2</td>\n",
       "      <td>2.0</td>\n",
       "      <td>4</td>\n",
       "      <td>2</td>\n",
       "      <td>5</td>\n",
       "      <td>2</td>\n",
       "      <td>1</td>\n",
       "      <td>2</td>\n",
       "      <td>...</td>\n",
       "      <td>2.0</td>\n",
       "      <td>2.0</td>\n",
       "      <td>2.0</td>\n",
       "      <td>0.0</td>\n",
       "      <td>1.0</td>\n",
       "      <td>3.0</td>\n",
       "      <td>4.0</td>\n",
       "      <td>2.0</td>\n",
       "      <td>3.0</td>\n",
       "      <td>3.0</td>\n",
       "    </tr>\n",
       "    <tr>\n",
       "      <th>4</th>\n",
       "      <td>-1</td>\n",
       "      <td>3</td>\n",
       "      <td>1</td>\n",
       "      <td>5.0</td>\n",
       "      <td>4</td>\n",
       "      <td>3</td>\n",
       "      <td>4</td>\n",
       "      <td>1</td>\n",
       "      <td>3</td>\n",
       "      <td>2</td>\n",
       "      <td>...</td>\n",
       "      <td>2.0</td>\n",
       "      <td>4.0</td>\n",
       "      <td>2.0</td>\n",
       "      <td>1.0</td>\n",
       "      <td>2.0</td>\n",
       "      <td>3.0</td>\n",
       "      <td>3.0</td>\n",
       "      <td>4.0</td>\n",
       "      <td>6.0</td>\n",
       "      <td>5.0</td>\n",
       "    </tr>\n",
       "  </tbody>\n",
       "</table>\n",
       "<p>5 rows × 85 columns</p>\n",
       "</div>"
      ],
      "text/plain": [
       "   AGER_TYP  ALTERSKATEGORIE_GROB  ANREDE_KZ  CJT_GESAMTTYP  \\\n",
       "0        -1                     2          1            2.0   \n",
       "1        -1                     1          2            5.0   \n",
       "2        -1                     3          2            3.0   \n",
       "3         2                     4          2            2.0   \n",
       "4        -1                     3          1            5.0   \n",
       "\n",
       "   FINANZ_MINIMALIST  FINANZ_SPARER  FINANZ_VORSORGER  FINANZ_ANLEGER  \\\n",
       "0                  3              4                 3               5   \n",
       "1                  1              5                 2               5   \n",
       "2                  1              4                 1               2   \n",
       "3                  4              2                 5               2   \n",
       "4                  4              3                 4               1   \n",
       "\n",
       "   FINANZ_UNAUFFAELLIGER  FINANZ_HAUSBAUER    ...     PLZ8_ANTG1  PLZ8_ANTG2  \\\n",
       "0                      5                 3    ...            NaN         NaN   \n",
       "1                      4                 5    ...            2.0         3.0   \n",
       "2                      3                 5    ...            3.0         3.0   \n",
       "3                      1                 2    ...            2.0         2.0   \n",
       "4                      3                 2    ...            2.0         4.0   \n",
       "\n",
       "   PLZ8_ANTG3  PLZ8_ANTG4  PLZ8_BAUMAX  PLZ8_HHZ  PLZ8_GBZ  ARBEIT  \\\n",
       "0         NaN         NaN          NaN       NaN       NaN     NaN   \n",
       "1         2.0         1.0          1.0       5.0       4.0     3.0   \n",
       "2         1.0         0.0          1.0       4.0       4.0     3.0   \n",
       "3         2.0         0.0          1.0       3.0       4.0     2.0   \n",
       "4         2.0         1.0          2.0       3.0       3.0     4.0   \n",
       "\n",
       "   ORTSGR_KLS9  RELAT_AB  \n",
       "0          NaN       NaN  \n",
       "1          5.0       4.0  \n",
       "2          5.0       2.0  \n",
       "3          3.0       3.0  \n",
       "4          6.0       5.0  \n",
       "\n",
       "[5 rows x 85 columns]"
      ]
     },
     "execution_count": 143,
     "metadata": {},
     "output_type": "execute_result"
    }
   ],
   "source": [
    "# Check the structure of the data after it's loaded (e.g. print the number of\n",
    "# rows and columns, print the first few rows).\n",
    "print(azdias.shape)\n",
    "#print(azdias.info())\n",
    "azdias.head()\n"
   ]
  },
  {
   "cell_type": "markdown",
   "metadata": {},
   "source": [
    "> **Tip**: Add additional cells to keep everything in reasonably-sized chunks! Keyboard shortcut `esc --> a` (press escape to enter command mode, then press the 'A' key) adds a new cell before the active cell, and `esc --> b` adds a new cell after the active cell. If you need to convert an active cell to a markdown cell, use `esc --> m` and to convert to a code cell, use `esc --> y`. \n",
    "\n",
    "## Step 1: Preprocessing\n",
    "\n",
    "### Step 1.1: Assess Missing Data\n",
    "\n",
    "The feature summary file contains a summary of properties for each demographics data column. You will use this file to help you make cleaning decisions during this stage of the project. First of all, you should assess the demographics data in terms of missing data. Pay attention to the following points as you perform your analysis, and take notes on what you observe. Make sure that you fill in the **Discussion** cell with your findings and decisions at the end of each step that has one!\n",
    "\n",
    "#### Step 1.1.1: Convert Missing Value Codes to NaNs\n",
    "The fourth column of the feature attributes summary (loaded in above as `feat_info`) documents the codes from the data dictionary that indicate missing or unknown data. While the file encodes this as a list (e.g. `[-1,0]`), this will get read in as a string object. You'll need to do a little bit of parsing to make use of it to identify and clean the data. Convert data that matches a 'missing' or 'unknown' value code into a numpy NaN value. You might want to see how much data takes on a 'missing' or 'unknown' code, and how much data is naturally missing, as a point of interest.\n",
    "\n",
    "**As one more reminder, you are encouraged to add additional cells to break up your analysis into manageable chunks.**"
   ]
  },
  {
   "cell_type": "code",
   "execution_count": 144,
   "metadata": {},
   "outputs": [
    {
     "name": "stdout",
     "output_type": "stream",
     "text": [
      "4896838\n"
     ]
    },
    {
     "data": {
      "text/plain": [
       "AGER_TYP                      0\n",
       "ALTERSKATEGORIE_GROB          0\n",
       "ANREDE_KZ                     0\n",
       "CJT_GESAMTTYP              4854\n",
       "FINANZ_MINIMALIST             0\n",
       "FINANZ_SPARER                 0\n",
       "FINANZ_VORSORGER              0\n",
       "FINANZ_ANLEGER                0\n",
       "FINANZ_UNAUFFAELLIGER         0\n",
       "FINANZ_HAUSBAUER              0\n",
       "FINANZTYP                     0\n",
       "GEBURTSJAHR                   0\n",
       "GFK_URLAUBERTYP            4854\n",
       "GREEN_AVANTGARDE              0\n",
       "HEALTH_TYP                    0\n",
       "LP_LEBENSPHASE_FEIN        4854\n",
       "LP_LEBENSPHASE_GROB        4854\n",
       "LP_FAMILIE_FEIN            4854\n",
       "LP_FAMILIE_GROB            4854\n",
       "LP_STATUS_FEIN             4854\n",
       "LP_STATUS_GROB             4854\n",
       "NATIONALITAET_KZ              0\n",
       "PRAEGENDE_JUGENDJAHRE         0\n",
       "RETOURTYP_BK_S             4854\n",
       "SEMIO_SOZ                     0\n",
       "SEMIO_FAM                     0\n",
       "SEMIO_REL                     0\n",
       "SEMIO_MAT                     0\n",
       "SEMIO_VERT                    0\n",
       "SEMIO_LUST                    0\n",
       "                          ...  \n",
       "OST_WEST_KZ               93148\n",
       "WOHNLAGE                  93148\n",
       "CAMEO_DEUG_2015           98979\n",
       "CAMEO_DEU_2015            98979\n",
       "CAMEO_INTL_2015           98979\n",
       "KBA05_ANTG1              133324\n",
       "KBA05_ANTG2              133324\n",
       "KBA05_ANTG3              133324\n",
       "KBA05_ANTG4              133324\n",
       "KBA05_BAUMAX             133324\n",
       "KBA05_GBZ                133324\n",
       "BALLRAUM                  93740\n",
       "EWDICHTE                  93740\n",
       "INNENSTADT                93740\n",
       "GEBAEUDETYP_RASTER        93155\n",
       "KKK                      121196\n",
       "MOBI_REGIO               133324\n",
       "ONLINE_AFFINITAET          4854\n",
       "REGIOTYP                 121196\n",
       "KBA13_ANZAHL_PKW         105800\n",
       "PLZ8_ANTG1               116515\n",
       "PLZ8_ANTG2               116515\n",
       "PLZ8_ANTG3               116515\n",
       "PLZ8_ANTG4               116515\n",
       "PLZ8_BAUMAX              116515\n",
       "PLZ8_HHZ                 116515\n",
       "PLZ8_GBZ                 116515\n",
       "ARBEIT                    97216\n",
       "ORTSGR_KLS9               97216\n",
       "RELAT_AB                  97216\n",
       "Length: 85, dtype: int64"
      ]
     },
     "execution_count": 144,
     "metadata": {},
     "output_type": "execute_result"
    }
   ],
   "source": [
    "# Identify missing or unknown data values and convert them to NaNs.\n",
    "# first check the null values in the data set\n",
    "\n",
    "print(azdias.isnull().sum().sum())\n",
    "azdias.isnull().sum()"
   ]
  },
  {
   "cell_type": "code",
   "execution_count": 145,
   "metadata": {},
   "outputs": [
    {
     "name": "stdout",
     "output_type": "stream",
     "text": [
      "['[-1,0]' '[-1,0,9]' '[0]' '[-1]' '[]' '[-1,9]' '[-1,X]' '[XX]' '[-1,XX]']\n"
     ]
    },
    {
     "data": {
      "text/plain": [
       "str"
      ]
     },
     "execution_count": 145,
     "metadata": {},
     "output_type": "execute_result"
    }
   ],
   "source": [
    "#check the type of missing values\n",
    "print(feat_info['missing_or_unknown'].unique())\n",
    "type(feat_info['missing_or_unknown'][0])"
   ]
  },
  {
   "cell_type": "code",
   "execution_count": 146,
   "metadata": {},
   "outputs": [],
   "source": [
    "#covert the type of missing values from str to int and put in lists\n",
    "\n",
    "def convert_str_missing(values):\n",
    "    missing_values=[]\n",
    "    values = values[1:-1].split(',')\n",
    "\n",
    "    for i in values:\n",
    "        try:\n",
    "            missing_values.append(int(i))\n",
    "        except:\n",
    "            missing_values.append(i)\n",
    "            \n",
    "    return missing_values"
   ]
  },
  {
   "cell_type": "code",
   "execution_count": 147,
   "metadata": {},
   "outputs": [],
   "source": [
    "#apply convert_str_missing function on the missing_or_unknown col and save the result in new col then drop the old col\n",
    "\n",
    "feat_info['Null'] = feat_info['missing_or_unknown'].apply(convert_str_missing)\n",
    "feat_info= feat_info.drop(columns= 'missing_or_unknown', axis=1)"
   ]
  },
  {
   "cell_type": "code",
   "execution_count": 148,
   "metadata": {},
   "outputs": [
    {
     "data": {
      "text/html": [
       "<div>\n",
       "<style scoped>\n",
       "    .dataframe tbody tr th:only-of-type {\n",
       "        vertical-align: middle;\n",
       "    }\n",
       "\n",
       "    .dataframe tbody tr th {\n",
       "        vertical-align: top;\n",
       "    }\n",
       "\n",
       "    .dataframe thead th {\n",
       "        text-align: right;\n",
       "    }\n",
       "</style>\n",
       "<table border=\"1\" class=\"dataframe\">\n",
       "  <thead>\n",
       "    <tr style=\"text-align: right;\">\n",
       "      <th></th>\n",
       "      <th>information_level</th>\n",
       "      <th>type</th>\n",
       "      <th>Null</th>\n",
       "    </tr>\n",
       "    <tr>\n",
       "      <th>attribute</th>\n",
       "      <th></th>\n",
       "      <th></th>\n",
       "      <th></th>\n",
       "    </tr>\n",
       "  </thead>\n",
       "  <tbody>\n",
       "    <tr>\n",
       "      <th>AGER_TYP</th>\n",
       "      <td>person</td>\n",
       "      <td>categorical</td>\n",
       "      <td>[-1, 0]</td>\n",
       "    </tr>\n",
       "    <tr>\n",
       "      <th>ALTERSKATEGORIE_GROB</th>\n",
       "      <td>person</td>\n",
       "      <td>ordinal</td>\n",
       "      <td>[-1, 0, 9]</td>\n",
       "    </tr>\n",
       "    <tr>\n",
       "      <th>ANREDE_KZ</th>\n",
       "      <td>person</td>\n",
       "      <td>categorical</td>\n",
       "      <td>[-1, 0]</td>\n",
       "    </tr>\n",
       "    <tr>\n",
       "      <th>CJT_GESAMTTYP</th>\n",
       "      <td>person</td>\n",
       "      <td>categorical</td>\n",
       "      <td>[0]</td>\n",
       "    </tr>\n",
       "    <tr>\n",
       "      <th>FINANZ_MINIMALIST</th>\n",
       "      <td>person</td>\n",
       "      <td>ordinal</td>\n",
       "      <td>[-1]</td>\n",
       "    </tr>\n",
       "  </tbody>\n",
       "</table>\n",
       "</div>"
      ],
      "text/plain": [
       "                     information_level         type        Null\n",
       "attribute                                                      \n",
       "AGER_TYP                        person  categorical     [-1, 0]\n",
       "ALTERSKATEGORIE_GROB            person      ordinal  [-1, 0, 9]\n",
       "ANREDE_KZ                       person  categorical     [-1, 0]\n",
       "CJT_GESAMTTYP                   person  categorical         [0]\n",
       "FINANZ_MINIMALIST               person      ordinal        [-1]"
      ]
     },
     "execution_count": 148,
     "metadata": {},
     "output_type": "execute_result"
    }
   ],
   "source": [
    "#set attribute as index for feature information file to use it in searching the name of col in the data set\n",
    "\n",
    "feat_index = feat_info.set_index('attribute')\n",
    "feat_index.head()\n"
   ]
  },
  {
   "cell_type": "code",
   "execution_count": 149,
   "metadata": {},
   "outputs": [],
   "source": [
    "#search for the null values in the data set and replace it to NaN\n",
    "\n",
    "for x in azdias.columns:\n",
    "    azdias[x].replace(feat_index.loc[x].loc['Null'],np.NaN,inplace=True)"
   ]
  },
  {
   "cell_type": "code",
   "execution_count": 150,
   "metadata": {},
   "outputs": [
    {
     "data": {
      "text/plain": [
       "8373929"
      ]
     },
     "execution_count": 150,
     "metadata": {},
     "output_type": "execute_result"
    }
   ],
   "source": [
    "#check the total of null after convert them to NaNs\n",
    "\n",
    "azdias.isna().sum().sum()"
   ]
  },
  {
   "cell_type": "markdown",
   "metadata": {},
   "source": [
    "#### Step 1.1.2: Assess Missing Data in Each Column\n",
    "\n",
    "How much missing data is present in each column? There are a few columns that are outliers in terms of the proportion of values that are missing. You will want to use matplotlib's [`hist()`](https://matplotlib.org/api/_as_gen/matplotlib.pyplot.hist.html) function to visualize the distribution of missing value counts to find these columns. Identify and document these columns. While some of these columns might have justifications for keeping or re-encoding the data, for this project you should just remove them from the dataframe. (Feel free to make remarks about these outlier columns in the discussion, however!)\n",
    "\n",
    "For the remaining features, are there any patterns in which columns have, or share, missing data?"
   ]
  },
  {
   "cell_type": "code",
   "execution_count": 151,
   "metadata": {},
   "outputs": [
    {
     "data": {
      "text/html": [
       "<div>\n",
       "<style scoped>\n",
       "    .dataframe tbody tr th:only-of-type {\n",
       "        vertical-align: middle;\n",
       "    }\n",
       "\n",
       "    .dataframe tbody tr th {\n",
       "        vertical-align: top;\n",
       "    }\n",
       "\n",
       "    .dataframe thead th {\n",
       "        text-align: right;\n",
       "    }\n",
       "</style>\n",
       "<table border=\"1\" class=\"dataframe\">\n",
       "  <thead>\n",
       "    <tr style=\"text-align: right;\">\n",
       "      <th></th>\n",
       "      <th>attribute</th>\n",
       "      <th>information_level</th>\n",
       "      <th>type</th>\n",
       "      <th>Null</th>\n",
       "      <th>Percent_of_Null</th>\n",
       "    </tr>\n",
       "  </thead>\n",
       "  <tbody>\n",
       "    <tr>\n",
       "      <th>40</th>\n",
       "      <td>TITEL_KZ</td>\n",
       "      <td>person</td>\n",
       "      <td>categorical</td>\n",
       "      <td>[-1, 0]</td>\n",
       "      <td>1.00</td>\n",
       "    </tr>\n",
       "    <tr>\n",
       "      <th>0</th>\n",
       "      <td>AGER_TYP</td>\n",
       "      <td>person</td>\n",
       "      <td>categorical</td>\n",
       "      <td>[-1, 0]</td>\n",
       "      <td>0.77</td>\n",
       "    </tr>\n",
       "    <tr>\n",
       "      <th>47</th>\n",
       "      <td>KK_KUNDENTYP</td>\n",
       "      <td>household</td>\n",
       "      <td>categorical</td>\n",
       "      <td>[-1]</td>\n",
       "      <td>0.66</td>\n",
       "    </tr>\n",
       "    <tr>\n",
       "      <th>64</th>\n",
       "      <td>KBA05_BAUMAX</td>\n",
       "      <td>microcell_rr3</td>\n",
       "      <td>mixed</td>\n",
       "      <td>[-1, 0]</td>\n",
       "      <td>0.53</td>\n",
       "    </tr>\n",
       "    <tr>\n",
       "      <th>11</th>\n",
       "      <td>GEBURTSJAHR</td>\n",
       "      <td>person</td>\n",
       "      <td>numeric</td>\n",
       "      <td>[0]</td>\n",
       "      <td>0.44</td>\n",
       "    </tr>\n",
       "  </tbody>\n",
       "</table>\n",
       "</div>"
      ],
      "text/plain": [
       "       attribute information_level         type     Null  Percent_of_Null\n",
       "40      TITEL_KZ            person  categorical  [-1, 0]             1.00\n",
       "0       AGER_TYP            person  categorical  [-1, 0]             0.77\n",
       "47  KK_KUNDENTYP         household  categorical     [-1]             0.66\n",
       "64  KBA05_BAUMAX     microcell_rr3        mixed  [-1, 0]             0.53\n",
       "11   GEBURTSJAHR            person      numeric      [0]             0.44"
      ]
     },
     "execution_count": 151,
     "metadata": {},
     "output_type": "execute_result"
    }
   ],
   "source": [
    "# Perform an assessment of how much missing data there is in each column of the dataset.\n",
    "\n",
    "col_with_null = round(pd.DataFrame(azdias.isna().sum()/len(azdias), columns=['Percent_of_Null']),2)\n",
    "feat_info= feat_info.merge(col_with_null, left_on= 'attribute', right_index=True)\n",
    "feat_info.sort_values(by='Percent_of_Null', ascending= False, inplace= True)\n",
    "feat_info.head()\n"
   ]
  },
  {
   "cell_type": "code",
   "execution_count": 152,
   "metadata": {},
   "outputs": [
    {
     "data": {
      "image/png": "[encoded data removed]",
      "text/plain": [
       "<matplotlib.figure.Figure at 0x7f09c14f6048>"
      ]
     },
     "metadata": {
      "needs_background": "light"
     },
     "output_type": "display_data"
    }
   ],
   "source": [
    "#the distribution of missing value percentage in columns\n",
    "\n",
    "x = feat_info['Percent_of_Null']\n",
    "plt.figure(figsize=(10,6))\n",
    "plt.hist(x, bins= 20, color= 'grey')\n",
    "plt.xlabel(\"Percent of Null Values\", size=10)\n",
    "plt.ylabel(\"Number of Columns\", size=10)\n",
    "plt.title(\"The Distribution of Null Values in Columns \"  '\\n')\n",
    "plt.show()"
   ]
  },
  {
   "cell_type": "code",
   "execution_count": 153,
   "metadata": {},
   "outputs": [
    {
     "name": "stdout",
     "output_type": "stream",
     "text": [
      "The total number of columns that have high null values = 4\n"
     ]
    },
    {
     "data": {
      "text/html": [
       "<div>\n",
       "<style scoped>\n",
       "    .dataframe tbody tr th:only-of-type {\n",
       "        vertical-align: middle;\n",
       "    }\n",
       "\n",
       "    .dataframe tbody tr th {\n",
       "        vertical-align: top;\n",
       "    }\n",
       "\n",
       "    .dataframe thead th {\n",
       "        text-align: right;\n",
       "    }\n",
       "</style>\n",
       "<table border=\"1\" class=\"dataframe\">\n",
       "  <thead>\n",
       "    <tr style=\"text-align: right;\">\n",
       "      <th></th>\n",
       "      <th>attribute</th>\n",
       "      <th>information_level</th>\n",
       "      <th>type</th>\n",
       "      <th>Null</th>\n",
       "      <th>Percent_of_Null</th>\n",
       "    </tr>\n",
       "  </thead>\n",
       "  <tbody>\n",
       "    <tr>\n",
       "      <th>40</th>\n",
       "      <td>TITEL_KZ</td>\n",
       "      <td>person</td>\n",
       "      <td>categorical</td>\n",
       "      <td>[-1, 0]</td>\n",
       "      <td>1.00</td>\n",
       "    </tr>\n",
       "    <tr>\n",
       "      <th>0</th>\n",
       "      <td>AGER_TYP</td>\n",
       "      <td>person</td>\n",
       "      <td>categorical</td>\n",
       "      <td>[-1, 0]</td>\n",
       "      <td>0.77</td>\n",
       "    </tr>\n",
       "    <tr>\n",
       "      <th>47</th>\n",
       "      <td>KK_KUNDENTYP</td>\n",
       "      <td>household</td>\n",
       "      <td>categorical</td>\n",
       "      <td>[-1]</td>\n",
       "      <td>0.66</td>\n",
       "    </tr>\n",
       "    <tr>\n",
       "      <th>64</th>\n",
       "      <td>KBA05_BAUMAX</td>\n",
       "      <td>microcell_rr3</td>\n",
       "      <td>mixed</td>\n",
       "      <td>[-1, 0]</td>\n",
       "      <td>0.53</td>\n",
       "    </tr>\n",
       "  </tbody>\n",
       "</table>\n",
       "</div>"
      ],
      "text/plain": [
       "       attribute information_level         type     Null  Percent_of_Null\n",
       "40      TITEL_KZ            person  categorical  [-1, 0]             1.00\n",
       "0       AGER_TYP            person  categorical  [-1, 0]             0.77\n",
       "47  KK_KUNDENTYP         household  categorical     [-1]             0.66\n",
       "64  KBA05_BAUMAX     microcell_rr3        mixed  [-1, 0]             0.53"
      ]
     },
     "execution_count": 153,
     "metadata": {},
     "output_type": "execute_result"
    }
   ],
   "source": [
    "#select col that have high null values more than 50%\n",
    "\n",
    "top_col_with_null = feat_info[feat_info['Percent_of_Null'] > 0.5]\n",
    "print('The total number of columns that have high null values = ' + str(len(top_col_with_null)))\n",
    "top_col_with_null\n"
   ]
  },
  {
   "cell_type": "code",
   "execution_count": 154,
   "metadata": {
    "scrolled": true
   },
   "outputs": [
    {
     "data": {
      "image/png": "[encoded data removed]",
      "text/plain": [
       "<matplotlib.figure.Figure at 0x7f09dc10fdd8>"
      ]
     },
     "metadata": {
      "needs_background": "light"
     },
     "output_type": "display_data"
    }
   ],
   "source": [
    "# Investigate patterns in the amount of missing data in each column.\n",
    "\n",
    "plt.figure(figsize=(20, 4))\n",
    "sns.barplot(x= 'attribute', y= 'Percent_of_Null', data=feat_info[:40], color= 'grey', )\n",
    "plt.xticks(rotation=80)\n",
    "plt.title('The columns that have high numbers of null values:' \"\\n\" , size= 16)\n",
    "plt.show()\n"
   ]
  },
  {
   "cell_type": "code",
   "execution_count": 155,
   "metadata": {},
   "outputs": [
    {
     "name": "stdout",
     "output_type": "stream",
     "text": [
      "The deleted col because of the high null values\n",
      "40        TITEL_KZ\n",
      "0         AGER_TYP\n",
      "47    KK_KUNDENTYP\n",
      "64    KBA05_BAUMAX\n",
      "Name: attribute, dtype: object\n"
     ]
    }
   ],
   "source": [
    "# Remove the outlier columns from the dataset. (You'll perform other data\n",
    "# engineering tasks such as re-encoding and imputation later.)\n",
    "\n",
    "outlier_col_by_null = top_col_with_null['attribute']\n",
    "print ('The deleted col because of the high null values' + '\\n' + str(outlier_col_by_null))"
   ]
  },
  {
   "cell_type": "code",
   "execution_count": 156,
   "metadata": {},
   "outputs": [
    {
     "data": {
      "text/plain": [
       "(891221, 81)"
      ]
     },
     "execution_count": 156,
     "metadata": {},
     "output_type": "execute_result"
    }
   ],
   "source": [
    "# drop high null values\n",
    "\n",
    "azdias = azdias.drop(columns=outlier_col_by_null, axis=1)\n",
    "azdias.shape"
   ]
  },
  {
   "cell_type": "markdown",
   "metadata": {},
   "source": [
    "#### Discussion 1.1.2: Assess Missing Data in Each Column\n",
    "\n",
    "In the distriburion, Most columns have 10% of the missing values then columns that don't have missing values come second, in addation to that, the remaining columns that have more than 20% of missing values are 6 columns and 4 of them are considered outliear columns by total missing values which have more than 50% of the missing values and these columns are: TITEL_KZ, AGER_TYP, KK_KUNDENTYP, KBA05_BAUMAX and deleted from the data set. "
   ]
  },
  {
   "cell_type": "markdown",
   "metadata": {},
   "source": [
    "#### Step 1.1.3: Assess Missing Data in Each Row\n",
    "\n",
    "Now, you'll perform a similar assessment for the rows of the dataset. How much data is missing in each row? As with the columns, you should see some groups of points that have a very different numbers of missing values. Divide the data into two subsets: one for data points that are above some threshold for missing values, and a second subset for points below that threshold.\n",
    "\n",
    "In order to know what to do with the outlier rows, we should see if the distribution of data values on columns that are not missing data (or are missing very little data) are similar or different between the two groups. Select at least five of these columns and compare the distribution of values.\n",
    "- You can use seaborn's [`countplot()`](https://seaborn.pydata.org/generated/seaborn.countplot.html) function to create a bar chart of code frequencies and matplotlib's [`subplot()`](https://matplotlib.org/api/_as_gen/matplotlib.pyplot.subplot.html) function to put bar charts for the two subplots side by side.\n",
    "- To reduce repeated code, you might want to write a function that can perform this comparison, taking as one of its arguments a column to be compared.\n",
    "\n",
    "Depending on what you observe in your comparison, this will have implications on how you approach your conclusions later in the analysis. If the distributions of non-missing features look similar between the data with many missing values and the data with few or no missing values, then we could argue that simply dropping those points from the analysis won't present a major issue. On the other hand, if the data with many missing values looks very different from the data with few or no missing values, then we should make a note on those data as special. We'll revisit these data later on. **Either way, you should continue your analysis for now using just the subset of the data with few or no missing values.**"
   ]
  },
  {
   "cell_type": "code",
   "execution_count": 157,
   "metadata": {},
   "outputs": [
    {
     "name": "stdout",
     "output_type": "stream",
     "text": [
      "The mean of missing values in rows: 7.82\n"
     ]
    }
   ],
   "source": [
    "# How much data is missing in each row of the dataset?\n",
    "\n",
    "azdias['null_in_row']= round(azdias.isna().sum(axis=1) / azdias.shape[1], 2) \n",
    "print('The mean of missing values in rows: ' + str(round(azdias['null_in_row'].mean()*100,2)))"
   ]
  },
  {
   "cell_type": "code",
   "execution_count": 158,
   "metadata": {},
   "outputs": [
    {
     "data": {
      "image/png": "[encoded data removed]",
      "text/plain": [
       "<matplotlib.figure.Figure at 0x7f09c04ccc18>"
      ]
     },
     "metadata": {
      "needs_background": "light"
     },
     "output_type": "display_data"
    }
   ],
   "source": [
    "#the distribution of missing value percentage in rows\n",
    "\n",
    "x2 = azdias['null_in_row']\n",
    "plt.figure(figsize=(10,6))\n",
    "plt.hist(x2, bins= 20, color= 'grey')\n",
    "plt.xlabel(\"Percent of Null Values\", size=10)\n",
    "plt.ylabel(\"Number of rows\", size=10)\n",
    "plt.title(\"The Distribution of Null Values in rows \"  '\\n')\n",
    "plt.show()"
   ]
  },
  {
   "cell_type": "code",
   "execution_count": 159,
   "metadata": {},
   "outputs": [
    {
     "name": "stdout",
     "output_type": "stream",
     "text": [
      "The total number of rows that have more than 30% null value: 93540\n",
      "The total number of rows that have 30% null value or less: 797681\n"
     ]
    }
   ],
   "source": [
    "# Write code to divide the data into two subsets based on the number of missing values in each row.\n",
    "\n",
    "threshold = 0.3\n",
    "high_missing_in_rows = azdias.loc[azdias['null_in_row'] >= threshold, : ]\n",
    "\n",
    "low_missing_in_rows = azdias.loc[azdias['null_in_row'] < threshold, : ]\n",
    "\n",
    "print('The total number of rows that have more than 30% null value: ' + str(len(high_missing_in_rows)))\n",
    "\n",
    "print('The total number of rows that have 30% null value or less: ' + str(len(low_missing_in_rows)))"
   ]
  },
  {
   "cell_type": "code",
   "execution_count": 160,
   "metadata": {},
   "outputs": [
    {
     "data": {
      "image/png": "[encoded data removed]",
      "text/plain": [
       "<matplotlib.figure.Figure at 0x7f09de2e8e10>"
      ]
     },
     "metadata": {
      "needs_background": "light"
     },
     "output_type": "display_data"
    },
    {
     "data": {
      "image/png": "[encoded data removed]",
      "text/plain": [
       "<matplotlib.figure.Figure at 0x7f09de2ee5f8>"
      ]
     },
     "metadata": {
      "needs_background": "light"
     },
     "output_type": "display_data"
    },
    {
     "data": {
      "image/png": "[encoded data removed]",
      "text/plain": [
       "<matplotlib.figure.Figure at 0x7f09de2cd320>"
      ]
     },
     "metadata": {
      "needs_background": "light"
     },
     "output_type": "display_data"
    },
    {
     "data": {
      "image/png": "[encoded data removed]",
      "text/plain": [
       "<matplotlib.figure.Figure at 0x7f09cc9e2240>"
      ]
     },
     "metadata": {
      "needs_background": "light"
     },
     "output_type": "display_data"
    },
    {
     "data": {
      "image/png": "[encoded data removed]",
      "text/plain": [
       "<matplotlib.figure.Figure at 0x7f09bf177c50>"
      ]
     },
     "metadata": {
      "needs_background": "light"
     },
     "output_type": "display_data"
    }
   ],
   "source": [
    "#Compare the distribution of values for at least five columns where there are\n",
    "# no or few missing values, between the two subsets.\n",
    "\n",
    "for i in azdias[azdias.columns[3:8]]:\n",
    "    ax, figures = plt.subplots(1,2, figsize=(12,6))\n",
    "    sns.countplot(high_missing_in_rows[i], ax=figures[0], color='black')\n",
    "    sns.countplot(low_missing_in_rows[i], ax=figures[1], color='grey')\n",
    "    plt.show()\n",
    "    \n",
    "    "
   ]
  },
  {
   "cell_type": "code",
   "execution_count": 161,
   "metadata": {},
   "outputs": [
    {
     "data": {
      "text/html": [
       "<div>\n",
       "<style scoped>\n",
       "    .dataframe tbody tr th:only-of-type {\n",
       "        vertical-align: middle;\n",
       "    }\n",
       "\n",
       "    .dataframe tbody tr th {\n",
       "        vertical-align: top;\n",
       "    }\n",
       "\n",
       "    .dataframe thead th {\n",
       "        text-align: right;\n",
       "    }\n",
       "</style>\n",
       "<table border=\"1\" class=\"dataframe\">\n",
       "  <thead>\n",
       "    <tr style=\"text-align: right;\">\n",
       "      <th></th>\n",
       "      <th>ALTERSKATEGORIE_GROB</th>\n",
       "      <th>ANREDE_KZ</th>\n",
       "      <th>CJT_GESAMTTYP</th>\n",
       "      <th>FINANZ_MINIMALIST</th>\n",
       "      <th>FINANZ_SPARER</th>\n",
       "      <th>FINANZ_VORSORGER</th>\n",
       "      <th>FINANZ_ANLEGER</th>\n",
       "      <th>FINANZ_UNAUFFAELLIGER</th>\n",
       "      <th>FINANZ_HAUSBAUER</th>\n",
       "      <th>FINANZTYP</th>\n",
       "      <th>...</th>\n",
       "      <th>PLZ8_ANTG2</th>\n",
       "      <th>PLZ8_ANTG3</th>\n",
       "      <th>PLZ8_ANTG4</th>\n",
       "      <th>PLZ8_BAUMAX</th>\n",
       "      <th>PLZ8_HHZ</th>\n",
       "      <th>PLZ8_GBZ</th>\n",
       "      <th>ARBEIT</th>\n",
       "      <th>ORTSGR_KLS9</th>\n",
       "      <th>RELAT_AB</th>\n",
       "      <th>null_in_row</th>\n",
       "    </tr>\n",
       "  </thead>\n",
       "  <tbody>\n",
       "    <tr>\n",
       "      <th>1</th>\n",
       "      <td>1.0</td>\n",
       "      <td>2</td>\n",
       "      <td>5.0</td>\n",
       "      <td>1</td>\n",
       "      <td>5</td>\n",
       "      <td>2</td>\n",
       "      <td>5</td>\n",
       "      <td>4</td>\n",
       "      <td>5</td>\n",
       "      <td>1</td>\n",
       "      <td>...</td>\n",
       "      <td>3.0</td>\n",
       "      <td>2.0</td>\n",
       "      <td>1.0</td>\n",
       "      <td>1.0</td>\n",
       "      <td>5.0</td>\n",
       "      <td>4.0</td>\n",
       "      <td>3.0</td>\n",
       "      <td>5.0</td>\n",
       "      <td>4.0</td>\n",
       "      <td>0.01</td>\n",
       "    </tr>\n",
       "    <tr>\n",
       "      <th>2</th>\n",
       "      <td>3.0</td>\n",
       "      <td>2</td>\n",
       "      <td>3.0</td>\n",
       "      <td>1</td>\n",
       "      <td>4</td>\n",
       "      <td>1</td>\n",
       "      <td>2</td>\n",
       "      <td>3</td>\n",
       "      <td>5</td>\n",
       "      <td>1</td>\n",
       "      <td>...</td>\n",
       "      <td>3.0</td>\n",
       "      <td>1.0</td>\n",
       "      <td>0.0</td>\n",
       "      <td>1.0</td>\n",
       "      <td>4.0</td>\n",
       "      <td>4.0</td>\n",
       "      <td>3.0</td>\n",
       "      <td>5.0</td>\n",
       "      <td>2.0</td>\n",
       "      <td>0.00</td>\n",
       "    </tr>\n",
       "    <tr>\n",
       "      <th>3</th>\n",
       "      <td>4.0</td>\n",
       "      <td>2</td>\n",
       "      <td>2.0</td>\n",
       "      <td>4</td>\n",
       "      <td>2</td>\n",
       "      <td>5</td>\n",
       "      <td>2</td>\n",
       "      <td>1</td>\n",
       "      <td>2</td>\n",
       "      <td>6</td>\n",
       "      <td>...</td>\n",
       "      <td>2.0</td>\n",
       "      <td>2.0</td>\n",
       "      <td>0.0</td>\n",
       "      <td>1.0</td>\n",
       "      <td>3.0</td>\n",
       "      <td>4.0</td>\n",
       "      <td>2.0</td>\n",
       "      <td>3.0</td>\n",
       "      <td>3.0</td>\n",
       "      <td>0.09</td>\n",
       "    </tr>\n",
       "    <tr>\n",
       "      <th>4</th>\n",
       "      <td>3.0</td>\n",
       "      <td>1</td>\n",
       "      <td>5.0</td>\n",
       "      <td>4</td>\n",
       "      <td>3</td>\n",
       "      <td>4</td>\n",
       "      <td>1</td>\n",
       "      <td>3</td>\n",
       "      <td>2</td>\n",
       "      <td>5</td>\n",
       "      <td>...</td>\n",
       "      <td>4.0</td>\n",
       "      <td>2.0</td>\n",
       "      <td>1.0</td>\n",
       "      <td>2.0</td>\n",
       "      <td>3.0</td>\n",
       "      <td>3.0</td>\n",
       "      <td>4.0</td>\n",
       "      <td>6.0</td>\n",
       "      <td>5.0</td>\n",
       "      <td>0.00</td>\n",
       "    </tr>\n",
       "    <tr>\n",
       "      <th>5</th>\n",
       "      <td>1.0</td>\n",
       "      <td>2</td>\n",
       "      <td>2.0</td>\n",
       "      <td>3</td>\n",
       "      <td>1</td>\n",
       "      <td>5</td>\n",
       "      <td>2</td>\n",
       "      <td>2</td>\n",
       "      <td>5</td>\n",
       "      <td>2</td>\n",
       "      <td>...</td>\n",
       "      <td>3.0</td>\n",
       "      <td>1.0</td>\n",
       "      <td>1.0</td>\n",
       "      <td>1.0</td>\n",
       "      <td>5.0</td>\n",
       "      <td>5.0</td>\n",
       "      <td>2.0</td>\n",
       "      <td>3.0</td>\n",
       "      <td>3.0</td>\n",
       "      <td>0.00</td>\n",
       "    </tr>\n",
       "  </tbody>\n",
       "</table>\n",
       "<p>5 rows × 82 columns</p>\n",
       "</div>"
      ],
      "text/plain": [
       "   ALTERSKATEGORIE_GROB  ANREDE_KZ  CJT_GESAMTTYP  FINANZ_MINIMALIST  \\\n",
       "1                   1.0          2            5.0                  1   \n",
       "2                   3.0          2            3.0                  1   \n",
       "3                   4.0          2            2.0                  4   \n",
       "4                   3.0          1            5.0                  4   \n",
       "5                   1.0          2            2.0                  3   \n",
       "\n",
       "   FINANZ_SPARER  FINANZ_VORSORGER  FINANZ_ANLEGER  FINANZ_UNAUFFAELLIGER  \\\n",
       "1              5                 2               5                      4   \n",
       "2              4                 1               2                      3   \n",
       "3              2                 5               2                      1   \n",
       "4              3                 4               1                      3   \n",
       "5              1                 5               2                      2   \n",
       "\n",
       "   FINANZ_HAUSBAUER  FINANZTYP     ...       PLZ8_ANTG2  PLZ8_ANTG3  \\\n",
       "1                 5          1     ...              3.0         2.0   \n",
       "2                 5          1     ...              3.0         1.0   \n",
       "3                 2          6     ...              2.0         2.0   \n",
       "4                 2          5     ...              4.0         2.0   \n",
       "5                 5          2     ...              3.0         1.0   \n",
       "\n",
       "   PLZ8_ANTG4  PLZ8_BAUMAX  PLZ8_HHZ  PLZ8_GBZ  ARBEIT  ORTSGR_KLS9  RELAT_AB  \\\n",
       "1         1.0          1.0       5.0       4.0     3.0          5.0       4.0   \n",
       "2         0.0          1.0       4.0       4.0     3.0          5.0       2.0   \n",
       "3         0.0          1.0       3.0       4.0     2.0          3.0       3.0   \n",
       "4         1.0          2.0       3.0       3.0     4.0          6.0       5.0   \n",
       "5         1.0          1.0       5.0       5.0     2.0          3.0       3.0   \n",
       "\n",
       "   null_in_row  \n",
       "1         0.01  \n",
       "2         0.00  \n",
       "3         0.09  \n",
       "4         0.00  \n",
       "5         0.00  \n",
       "\n",
       "[5 rows x 82 columns]"
      ]
     },
     "execution_count": 161,
     "metadata": {},
     "output_type": "execute_result"
    }
   ],
   "source": [
    "# select the subset of data that has low null values in rows to complete working on\n",
    "\n",
    "data = low_missing_in_rows.copy()\n",
    "data.head()"
   ]
  },
  {
   "cell_type": "markdown",
   "metadata": {},
   "source": [
    "#### Discussion 1.1.3: Assess Missing Data in Each Row\n",
    "\n",
    "The total of rows that have less than 5% missing values are 672318 and almost have of these rows don't have missing values while the maximum percentage of missing values in rows is 61%. However, the rows that have more than 30% of missing values are considered have high number of missing values. In missing value comparison in the two subset of data the distribution of the columns that are choosen randomely are different while the values distribute in the low missing subset, they're consentrated on one value in the high missing subset which indicates the missing values affect on the distribution."
   ]
  },
  {
   "cell_type": "markdown",
   "metadata": {},
   "source": [
    "### Step 1.2: Select and Re-Encode Features\n",
    "\n",
    "Checking for missing data isn't the only way in which you can prepare a dataset for analysis. Since the unsupervised learning techniques to be used will only work on data that is encoded numerically, you need to make a few encoding changes or additional assumptions to be able to make progress. In addition, while almost all of the values in the dataset are encoded using numbers, not all of them represent numeric values. Check the third column of the feature summary (`feat_info`) for a summary of types of measurement.\n",
    "- For numeric and interval data, these features can be kept without changes.\n",
    "- Most of the variables in the dataset are ordinal in nature. While ordinal values may technically be non-linear in spacing, make the simplifying assumption that the ordinal variables can be treated as being interval in nature (that is, kept without any changes).\n",
    "- Special handling may be necessary for the remaining two variable types: categorical, and 'mixed'.\n",
    "\n",
    "In the first two parts of this sub-step, you will perform an investigation of the categorical and mixed-type features and make a decision on each of them, whether you will keep, drop, or re-encode each. Then, in the last part, you will create a new data frame with only the selected and engineered columns.\n",
    "\n",
    "Data wrangling is often the trickiest part of the data analysis process, and there's a lot of it to be done here. But stick with it: once you're done with this step, you'll be ready to get to the machine learning parts of the project!"
   ]
  },
  {
   "cell_type": "code",
   "execution_count": 162,
   "metadata": {},
   "outputs": [
    {
     "data": {
      "text/plain": [
       "ordinal        49\n",
       "categorical    21\n",
       "mixed           7\n",
       "numeric         7\n",
       "interval        1\n",
       "Name: type, dtype: int64"
      ]
     },
     "execution_count": 162,
     "metadata": {},
     "output_type": "execute_result"
    }
   ],
   "source": [
    "# How many features are there of each data type?\n",
    "\n",
    "feat_info['type'].value_counts()\n"
   ]
  },
  {
   "cell_type": "markdown",
   "metadata": {},
   "source": [
    "#### Step 1.2.1: Re-Encode Categorical Features\n",
    "\n",
    "For categorical data, you would ordinarily need to encode the levels as dummy variables. Depending on the number of categories, perform one of the following:\n",
    "- For binary (two-level) categoricals that take numeric values, you can keep them without needing to do anything.\n",
    "- There is one binary variable that takes on non-numeric values. For this one, you need to re-encode the values as numbers or create a dummy variable.\n",
    "- For multi-level categoricals (three or more values), you can choose to encode the values using multiple dummy variables (e.g. via [OneHotEncoder](http://scikit-learn.org/stable/modules/generated/sklearn.preprocessing.OneHotEncoder.html)), or (to keep things straightforward) just drop them from the analysis. As always, document your choices in the Discussion section."
   ]
  },
  {
   "cell_type": "code",
   "execution_count": 163,
   "metadata": {},
   "outputs": [
    {
     "data": {
      "text/plain": [
       "81"
      ]
     },
     "execution_count": 163,
     "metadata": {},
     "output_type": "execute_result"
    }
   ],
   "source": [
    "# update the col in the feature information file by the current col in data file\n",
    "\n",
    "updated_feat_info = feat_info[feat_info['attribute'].isin(data.columns)]\n",
    "len(updated_feat_info)"
   ]
  },
  {
   "cell_type": "code",
   "execution_count": 164,
   "metadata": {},
   "outputs": [
    {
     "data": {
      "text/plain": [
       "18"
      ]
     },
     "execution_count": 164,
     "metadata": {},
     "output_type": "execute_result"
    }
   ],
   "source": [
    "# Assess categorical variables: which are binary, which are multi-level, and\n",
    "# which one needs to be re-encoded?\n",
    "\n",
    "categorical_var = updated_feat_info[updated_feat_info['type'] == 'categorical']['attribute']\n",
    "len(categorical_var)\n"
   ]
  },
  {
   "cell_type": "code",
   "execution_count": 165,
   "metadata": {},
   "outputs": [
    {
     "name": "stdout",
     "output_type": "stream",
     "text": [
      "The number of categorical col that have more than 2 levels: 13\n",
      "The number of categorical col that have 2 levels: 5\n"
     ]
    }
   ],
   "source": [
    "# divide categorical col by the number of level\n",
    "\n",
    "level_of_categorical_var = data[categorical_var].nunique() \n",
    "high_level = level_of_categorical_var[level_of_categorical_var > 2].index\n",
    "low_level  = level_of_categorical_var[level_of_categorical_var <= 2].index\n",
    "\n",
    "print('The number of categorical col that have more than 2 levels: ' + str(len(high_level)) + '\\n' + \n",
    "      'The number of categorical col that have 2 levels: ' + str(len(low_level)))"
   ]
  },
  {
   "cell_type": "code",
   "execution_count": 166,
   "metadata": {},
   "outputs": [
    {
     "data": {
      "text/plain": [
       "(797681, 69)"
      ]
     },
     "execution_count": 166,
     "metadata": {},
     "output_type": "execute_result"
    }
   ],
   "source": [
    "# drop categorical variables that have more than 2 levels\n",
    "\n",
    "data.drop(columns= high_level, axis=1 , inplace= True  )\n",
    "data.shape"
   ]
  },
  {
   "cell_type": "code",
   "execution_count": 167,
   "metadata": {},
   "outputs": [],
   "source": [
    "#data['OST_WEST_KZ'].value_counts()"
   ]
  },
  {
   "cell_type": "code",
   "execution_count": 168,
   "metadata": {},
   "outputs": [
    {
     "data": {
      "text/plain": [
       "0    629197\n",
       "1    168484\n",
       "Name: OST_WEST_KZ, dtype: int64"
      ]
     },
     "execution_count": 168,
     "metadata": {},
     "output_type": "execute_result"
    }
   ],
   "source": [
    "# Re-encode categorical variable(s) to be kept in the analysis.\n",
    "\n",
    "data['OST_WEST_KZ'].replace(('W','O'),(0,1), inplace=True)\n",
    "data['OST_WEST_KZ'].value_counts()"
   ]
  },
  {
   "cell_type": "markdown",
   "metadata": {},
   "source": [
    "#### Discussion 1.2.1: Re-Encode Categorical Features\n",
    "The are 18 columns that are categorical and 13 categorical variables have more than 2 levels and we deleted. The values of the one categorical variable are text which is \"OST_WEST_KZ\" so we re-encode its value to numbers 0 and 1.\n"
   ]
  },
  {
   "cell_type": "markdown",
   "metadata": {},
   "source": [
    "#### Step 1.2.2: Engineer Mixed-Type Features\n",
    "\n",
    "There are a handful of features that are marked as \"mixed\" in the feature summary that require special treatment in order to be included in the analysis. There are two in particular that deserve attention; the handling of the rest are up to your own choices:\n",
    "- \"PRAEGENDE_JUGENDJAHRE\" combines information on three dimensions: generation by decade, movement (mainstream vs. avantgarde), and nation (east vs. west). While there aren't enough levels to disentangle east from west, you should create two new variables to capture the other two dimensions: an interval-type variable for decade, and a binary variable for movement.\n",
    "- \"CAMEO_INTL_2015\" combines information on two axes: wealth and life stage. Break up the two-digit codes by their 'tens'-place and 'ones'-place digits into two new ordinal variables (which, for the purposes of this project, is equivalent to just treating them as their raw numeric values).\n",
    "- If you decide to keep or engineer new features around the other mixed-type features, make sure you note your steps in the Discussion section.\n",
    "\n",
    "Be sure to check `Data_Dictionary.md` for the details needed to finish these tasks."
   ]
  },
  {
   "cell_type": "code",
   "execution_count": 169,
   "metadata": {},
   "outputs": [
    {
     "data": {
      "text/html": [
       "<div>\n",
       "<style scoped>\n",
       "    .dataframe tbody tr th:only-of-type {\n",
       "        vertical-align: middle;\n",
       "    }\n",
       "\n",
       "    .dataframe tbody tr th {\n",
       "        vertical-align: top;\n",
       "    }\n",
       "\n",
       "    .dataframe thead th {\n",
       "        text-align: right;\n",
       "    }\n",
       "</style>\n",
       "<table border=\"1\" class=\"dataframe\">\n",
       "  <thead>\n",
       "    <tr style=\"text-align: right;\">\n",
       "      <th></th>\n",
       "      <th>attribute</th>\n",
       "      <th>information_level</th>\n",
       "      <th>type</th>\n",
       "      <th>Null</th>\n",
       "      <th>Percent_of_Null</th>\n",
       "    </tr>\n",
       "  </thead>\n",
       "  <tbody>\n",
       "    <tr>\n",
       "      <th>79</th>\n",
       "      <td>PLZ8_BAUMAX</td>\n",
       "      <td>macrocell_plz8</td>\n",
       "      <td>mixed</td>\n",
       "      <td>[-1, 0]</td>\n",
       "      <td>0.13</td>\n",
       "    </tr>\n",
       "    <tr>\n",
       "      <th>22</th>\n",
       "      <td>PRAEGENDE_JUGENDJAHRE</td>\n",
       "      <td>person</td>\n",
       "      <td>mixed</td>\n",
       "      <td>[-1, 0]</td>\n",
       "      <td>0.12</td>\n",
       "    </tr>\n",
       "    <tr>\n",
       "      <th>59</th>\n",
       "      <td>CAMEO_INTL_2015</td>\n",
       "      <td>microcell_rr4</td>\n",
       "      <td>mixed</td>\n",
       "      <td>[-1, XX]</td>\n",
       "      <td>0.11</td>\n",
       "    </tr>\n",
       "    <tr>\n",
       "      <th>16</th>\n",
       "      <td>LP_LEBENSPHASE_GROB</td>\n",
       "      <td>person</td>\n",
       "      <td>mixed</td>\n",
       "      <td>[0]</td>\n",
       "      <td>0.11</td>\n",
       "    </tr>\n",
       "    <tr>\n",
       "      <th>15</th>\n",
       "      <td>LP_LEBENSPHASE_FEIN</td>\n",
       "      <td>person</td>\n",
       "      <td>mixed</td>\n",
       "      <td>[0]</td>\n",
       "      <td>0.11</td>\n",
       "    </tr>\n",
       "    <tr>\n",
       "      <th>56</th>\n",
       "      <td>WOHNLAGE</td>\n",
       "      <td>building</td>\n",
       "      <td>mixed</td>\n",
       "      <td>[-1]</td>\n",
       "      <td>0.10</td>\n",
       "    </tr>\n",
       "  </tbody>\n",
       "</table>\n",
       "</div>"
      ],
      "text/plain": [
       "                attribute information_level   type      Null  Percent_of_Null\n",
       "79            PLZ8_BAUMAX    macrocell_plz8  mixed   [-1, 0]             0.13\n",
       "22  PRAEGENDE_JUGENDJAHRE            person  mixed   [-1, 0]             0.12\n",
       "59        CAMEO_INTL_2015     microcell_rr4  mixed  [-1, XX]             0.11\n",
       "16    LP_LEBENSPHASE_GROB            person  mixed       [0]             0.11\n",
       "15    LP_LEBENSPHASE_FEIN            person  mixed       [0]             0.11\n",
       "56               WOHNLAGE          building  mixed      [-1]             0.10"
      ]
     },
     "execution_count": 169,
     "metadata": {},
     "output_type": "execute_result"
    }
   ],
   "source": [
    "# select variables that are mixed type\n",
    "\n",
    "updated_feat_info[updated_feat_info['type'] == 'mixed']"
   ]
  },
  {
   "cell_type": "code",
   "execution_count": 170,
   "metadata": {},
   "outputs": [
    {
     "name": "stdout",
     "output_type": "stream",
     "text": [
      "14.0    182948\n",
      "8.0     141570\n",
      "10.0     85788\n",
      "5.0      84676\n",
      "3.0      53836\n",
      "15.0     42532\n",
      "11.0     35744\n",
      "9.0      33567\n",
      "6.0      25652\n",
      "12.0     24443\n",
      "1.0      20673\n",
      "4.0      20450\n",
      "2.0       7479\n",
      "13.0      5761\n",
      "7.0       4009\n",
      "Name: PRAEGENDE_JUGENDJAHRE, dtype: int64\n"
     ]
    },
    {
     "data": {
      "text/plain": [
       "<matplotlib.axes._subplots.AxesSubplot at 0x7f09cb716278>"
      ]
     },
     "execution_count": 170,
     "metadata": {},
     "output_type": "execute_result"
    },
    {
     "data": {
      "image/png": "[encoded data removed]",
      "text/plain": [
       "<matplotlib.figure.Figure at 0x7f09de285fd0>"
      ]
     },
     "metadata": {
      "needs_background": "light"
     },
     "output_type": "display_data"
    }
   ],
   "source": [
    "# Investigate \"PRAEGENDE_JUGENDJAHRE\" and engineer two new variables.\n",
    "\n",
    "print(data[\"PRAEGENDE_JUGENDJAHRE\"].value_counts())\n",
    "fig, ax1 = plt.subplots(figsize=(10,6))\n",
    "sns.countplot(data= data,\n",
    "              x='PRAEGENDE_JUGENDJAHRE',color='grey', ax=ax1)"
   ]
  },
  {
   "cell_type": "code",
   "execution_count": 171,
   "metadata": {},
   "outputs": [],
   "source": [
    "#engineer two new variables from PRAEGENDE_JUGENDJAHRE variable\n",
    "\n",
    "data['generation_by_decade'] = data[\"PRAEGENDE_JUGENDJAHRE\"].replace(to_replace= (1,2,3,4,5,6,7,8,9,10,11,12,13,14,15),\n",
    "                                                                         value= (1,1,2,2,3,3,3,4,4,5,5,5,5,6,6))\n",
    "data['generation_by_movement']= data[\"PRAEGENDE_JUGENDJAHRE\"].replace(to_replace= (1,2,3,4,5,6,7,8,9,10,11,12,13,14,15),\n",
    "                                                              value= (1,2,1,2,1,2,2,1,2,1,2,1,2,1,2))"
   ]
  },
  {
   "cell_type": "code",
   "execution_count": 172,
   "metadata": {},
   "outputs": [
    {
     "data": {
      "text/plain": [
       "6.0    225480\n",
       "4.0    175137\n",
       "5.0    151736\n",
       "3.0    114337\n",
       "2.0     74286\n",
       "1.0     28152\n",
       "Name: generation_by_decade, dtype: int64"
      ]
     },
     "execution_count": 172,
     "metadata": {},
     "output_type": "execute_result"
    }
   ],
   "source": [
    "data['generation_by_decade'].value_counts()"
   ]
  },
  {
   "cell_type": "code",
   "execution_count": 173,
   "metadata": {},
   "outputs": [
    {
     "data": {
      "text/plain": [
       "1.0    593934\n",
       "2.0    175194\n",
       "Name: generation_by_movement, dtype: int64"
      ]
     },
     "execution_count": 173,
     "metadata": {},
     "output_type": "execute_result"
    }
   ],
   "source": [
    "\n",
    "data['generation_by_movement'].value_counts()"
   ]
  },
  {
   "cell_type": "code",
   "execution_count": 174,
   "metadata": {},
   "outputs": [
    {
     "name": "stdout",
     "output_type": "stream",
     "text": [
      "51    133681\n",
      "41     92325\n",
      "24     91126\n",
      "14     62866\n",
      "43     56666\n",
      "54     45386\n",
      "25     39613\n",
      "22     33143\n",
      "23     26703\n",
      "13     26325\n",
      "45     26131\n",
      "55     23948\n",
      "52     20541\n",
      "31     18995\n",
      "34     18521\n",
      "15     16970\n",
      "44     14818\n",
      "12     13236\n",
      "35     10354\n",
      "32     10350\n",
      "33      9930\n",
      "Name: CAMEO_INTL_2015, dtype: int64\n"
     ]
    },
    {
     "data": {
      "text/plain": [
       "<matplotlib.axes._subplots.AxesSubplot at 0x7f09a5e38780>"
      ]
     },
     "execution_count": 174,
     "metadata": {},
     "output_type": "execute_result"
    },
    {
     "data": {
      "image/png": "[encoded data removed]",
      "text/plain": [
       "<matplotlib.figure.Figure at 0x7f09de219be0>"
      ]
     },
     "metadata": {
      "needs_background": "light"
     },
     "output_type": "display_data"
    }
   ],
   "source": [
    "# Investigate \"CAMEO_INTL_2015\" and engineer two new variables.\n",
    "\n",
    "print(data[\"CAMEO_INTL_2015\"].value_counts())\n",
    "fig, ax1 = plt.subplots(figsize=(10,6))\n",
    "sns.countplot(data= data,\n",
    "              x='CAMEO_INTL_2015', color='grey', ax=ax1)"
   ]
  },
  {
   "cell_type": "code",
   "execution_count": 175,
   "metadata": {},
   "outputs": [],
   "source": [
    "#engineer two new variables from \"CAMEO_INTL_2015\" variable\n",
    "\n",
    "data['wealth'] = data[\"CAMEO_INTL_2015\"].replace(to_replace= ('12','13','14','15','22','23','24','25',\n",
    "                                                                  '31','32','33','34','35','41','43','44',\n",
    "                                                                  '45','51','52','54','55'), \n",
    "                                                     value= (1,1,1,1,2,2,2,2,3,3,3,3,3,4,4,4,4,5,5,5,5))\n",
    "    \n",
    "data['life_stage']= data[\"CAMEO_INTL_2015\"].replace(to_replace= ('12','13','14','15','22','23','24','25',\n",
    "                                                                     '31','32','33','34','35','41','43','44',\n",
    "                                                                     '45','51','52','54','55'),\n",
    "                                                        value= (2,3,4,5,2,3,4,5,1,2,3,4,5,1,3,4,5,1,2,4,5))"
   ]
  },
  {
   "cell_type": "code",
   "execution_count": 176,
   "metadata": {},
   "outputs": [
    {
     "data": {
      "text/plain": [
       "5.0    223556\n",
       "2.0    190585\n",
       "4.0    189940\n",
       "1.0    119397\n",
       "3.0     68150\n",
       "Name: wealth, dtype: int64"
      ]
     },
     "execution_count": 176,
     "metadata": {},
     "output_type": "execute_result"
    }
   ],
   "source": [
    "data['wealth'].value_counts()"
   ]
  },
  {
   "cell_type": "code",
   "execution_count": 177,
   "metadata": {},
   "outputs": [
    {
     "data": {
      "text/plain": [
       "1.0    245001\n",
       "4.0    232717\n",
       "3.0    119624\n",
       "5.0    117016\n",
       "2.0     77270\n",
       "Name: life_stage, dtype: int64"
      ]
     },
     "execution_count": 177,
     "metadata": {},
     "output_type": "execute_result"
    }
   ],
   "source": [
    "data['life_stage'].value_counts()"
   ]
  },
  {
   "cell_type": "code",
   "execution_count": 178,
   "metadata": {},
   "outputs": [
    {
     "data": {
      "text/plain": [
       "(797681, 67)"
      ]
     },
     "execution_count": 178,
     "metadata": {},
     "output_type": "execute_result"
    }
   ],
   "source": [
    "#drop mixed variables \n",
    "\n",
    "mixed_var= updated_feat_info[updated_feat_info['type'] == 'mixed']['attribute']\n",
    "\n",
    "data.drop(columns= mixed_var, axis=1 , inplace= True  )\n",
    "data.shape"
   ]
  },
  {
   "cell_type": "markdown",
   "metadata": {},
   "source": [
    "#### Discussion 1.2.2: Engineer Mixed-Type Features\n",
    "\n",
    "We droped all mixed variables after extracting important features from two columns: \"PRAEGENDE_JUGENDJAHRE\" + \"CAMEO_INTL_2015\". We generated two columns from the first columns which are \"generation_by_decade\" and \"generation_by_movement\", and from the second columns we also generate two columns: \"wealth\" and \"life_stage\"."
   ]
  },
  {
   "cell_type": "markdown",
   "metadata": {},
   "source": [
    "#### Step 1.2.3: Complete Feature Selection\n",
    "\n",
    "In order to finish this step up, you need to make sure that your data frame now only has the columns that you want to keep. To summarize, the dataframe should consist of the following:\n",
    "- All numeric, interval, and ordinal type columns from the original dataset.\n",
    "- Binary categorical features (all numerically-encoded).\n",
    "- Engineered features from other multi-level categorical features and mixed features.\n",
    "\n",
    "Make sure that for any new columns that you have engineered, that you've excluded the original columns from the final dataset. Otherwise, their values will interfere with the analysis later on the project. For example, you should not keep \"PRAEGENDE_JUGENDJAHRE\", since its values won't be useful for the algorithm: only the values derived from it in the engineered features you created should be retained. As a reminder, your data should only be from **the subset with few or no missing values**."
   ]
  },
  {
   "cell_type": "code",
   "execution_count": 179,
   "metadata": {},
   "outputs": [
    {
     "data": {
      "text/plain": [
       "62"
      ]
     },
     "execution_count": 179,
     "metadata": {},
     "output_type": "execute_result"
    }
   ],
   "source": [
    "# update the col in the feature information file by the current col in data file\n",
    "\n",
    "updated_feat_info = feat_info[feat_info['attribute'].isin(data.columns)]\n",
    "len(updated_feat_info)"
   ]
  },
  {
   "cell_type": "code",
   "execution_count": 180,
   "metadata": {},
   "outputs": [],
   "source": [
    "# drop 'null_in_row' col after ending from it\n",
    "\n",
    "data.drop(columns= 'null_in_row', axis=1 , inplace= True  )"
   ]
  },
  {
   "cell_type": "code",
   "execution_count": 181,
   "metadata": {},
   "outputs": [
    {
     "data": {
      "text/plain": [
       "66"
      ]
     },
     "execution_count": 181,
     "metadata": {},
     "output_type": "execute_result"
    }
   ],
   "source": [
    "# If there are other re-engineering tasks you need to perform, make sure you\n",
    "# take care of them here. (Dealing with missing data will come in step 2.1.)\n",
    "len(data.columns)"
   ]
  },
  {
   "cell_type": "code",
   "execution_count": 182,
   "metadata": {},
   "outputs": [
    {
     "name": "stdout",
     "output_type": "stream",
     "text": [
      "all the columns are numbers..!\n"
     ]
    }
   ],
   "source": [
    "# Do whatever you need to in order to ensure that the dataframe only contains\n",
    "# the columns that should be passed to the algorithm functions.\n",
    "\n",
    "if len(data.select_dtypes(include=[np.number]).columns) == data.shape[1]:\n",
    "    print('all the columns are numbers..!')"
   ]
  },
  {
   "cell_type": "markdown",
   "metadata": {},
   "source": [
    "### Step 1.3: Create a Cleaning Function\n",
    "\n",
    "Even though you've finished cleaning up the general population demographics data, it's important to look ahead to the future and realize that you'll need to perform the same cleaning steps on the customer demographics data. In this substep, complete the function below to execute the main feature selection, encoding, and re-engineering steps you performed above. Then, when it comes to looking at the customer data in Step 3, you can just run this function on that DataFrame to get the trimmed dataset in a single step."
   ]
  },
  {
   "cell_type": "code",
   "execution_count": 183,
   "metadata": {},
   "outputs": [],
   "source": [
    "def clean_data(df):\n",
    "    \"\"\"\n",
    "    Perform feature trimming, re-encoding, and engineering for demographics\n",
    "    data\n",
    "    \n",
    "    INPUT: Demographics DataFrame\n",
    "    OUTPUT: Trimmed and cleaned demographics DataFrame\n",
    "    \"\"\"\n",
    "    feat_info = pd.read_csv('AZDIAS_Feature_Summary.csv',';')\n",
    "    values= feat_info['missing_or_unknown']\n",
    "    missing_values=[]\n",
    "    \n",
    "    # Put in code here to execute all main cleaning steps:\n",
    "    # convert missing value codes into NaNs, ...\n",
    "    def convert_str_missing(values):\n",
    "        values = values[1:-1].split(',')\n",
    "\n",
    "        for i in values:\n",
    "            try:\n",
    "                missing_values.append(int(i))\n",
    "            except:\n",
    "                missing_values.append(i)\n",
    "            \n",
    "        return missing_values\n",
    "\n",
    "    feat_info['Null'] = feat_info['missing_or_unknown'].apply(convert_str_missing)\n",
    "    feat_info= feat_info.drop(columns= 'missing_or_unknown', axis=1)\n",
    "\n",
    "    feat_index= feat_info.set_index('attribute')\n",
    "\n",
    "    for x in df.columns:\n",
    "        df[x].replace(feat_index.loc[x].loc['Null'],np.NaN,inplace=True)\n",
    "    \n",
    "    \n",
    "    # remove selected columns and rows, ...\n",
    "    \n",
    "    deleted_col= ['AGER_TYP', 'TITEL_KZ' , 'KK_KUNDENTYP', 'KBA05_BAUMAX']\n",
    "\n",
    "    df = df.drop(deleted_col, axis=1)\n",
    "    \n",
    "    # remove selected rows\n",
    "\n",
    "    df= df[df.isna().sum(axis=1)/ df.shape[1] < 0.3]\n",
    "    \n",
    "    # select, re-encode, and engineer column values.\n",
    "    \n",
    "    df['OST_WEST_KZ'].replace(('W','O'),(0,1), inplace=True)\n",
    "    \n",
    "    \n",
    "    feat_info = feat_info[feat_info['attribute'].isin(df.columns)]\n",
    "\n",
    "\n",
    "    #drop multi_level categorical columns\n",
    "\n",
    "    categorical_var = feat_info[feat_info['type'] == 'categorical']['attribute']\n",
    "    level_of_categorical_var = df[categorical_var].nunique() \n",
    "    high_level = level_of_categorical_var[level_of_categorical_var > 2].index\n",
    "    df = df.drop(columns=high_level, axis=1)\n",
    "\n",
    "\n",
    "    #engineer mixed column values\n",
    "    df['generation_by_decade'] = df[\"PRAEGENDE_JUGENDJAHRE\"].replace(to_replace= (1,2,3,4,5,6,7,8,9,10,11,12,13,14,15),\n",
    "                                                                         value= (1,1,2,2,3,3,3,4,4,5,5,5,5,6,6))\n",
    "    df['generation_by_movement']= df[\"PRAEGENDE_JUGENDJAHRE\"].replace(to_replace= (1,2,3,4,5,6,7,8,9,10,11,12,13,14,15),\n",
    "                                                              value= (1,2,1,2,1,2,2,1,2,1,2,1,2,1,2))\n",
    "\n",
    "    df['wealth'] = df[\"CAMEO_INTL_2015\"].replace(to_replace= ('12','13','14','15','22','23','24','25',\n",
    "                                                                  '31','32','33','34','35','41','43','44',\n",
    "                                                                  '45','51','52','54','55'), \n",
    "                                                     value= (1,1,1,1,2,2,2,2,3,3,3,3,3,4,4,4,4,5,5,5,5))\n",
    "    \n",
    "    df['life_stage']= df[\"CAMEO_INTL_2015\"].replace(to_replace= ('12','13','14','15','22','23','24','25',\n",
    "                                                                     '31','32','33','34','35','41','43','44',\n",
    "                                                                     '45','51','52','54','55'),\n",
    "                                                        value= (2,3,4,5,2,3,4,5,1,2,3,4,5,1,3,4,5,1,2,4,5))\n",
    "    # drop mixed type variables\n",
    "    feat_info = feat_info[feat_info['attribute'].isin(df.columns)]\n",
    "\n",
    "    mixed_var= feat_info[feat_info['type'] == 'mixed']['attribute']\n",
    "    df.drop(columns= mixed_var, axis=1 , inplace= True  )\n",
    "\n",
    "    \n",
    "    # Return the cleaned dataframe.\n",
    "    \n",
    "    return df"
   ]
  },
  {
   "cell_type": "code",
   "execution_count": 184,
   "metadata": {},
   "outputs": [
    {
     "ename": "KeyError",
     "evalue": "'the label [null_in_row] is not in the [index]'",
     "output_type": "error",
     "traceback": [
      "\u001b[0;31m---------------------------------------------------------------------------\u001b[0m",
      "\u001b[0;31mKeyError\u001b[0m                                  Traceback (most recent call last)",
      "\u001b[0;32m/opt/conda/lib/python3.6/site-packages/pandas/core/indexing.py\u001b[0m in \u001b[0;36m_validate_key\u001b[0;34m(self, key, axis)\u001b[0m\n\u001b[1;32m   1789\u001b[0m                 \u001b[0;32mif\u001b[0m \u001b[0;32mnot\u001b[0m \u001b[0max\u001b[0m\u001b[0;34m.\u001b[0m\u001b[0mcontains\u001b[0m\u001b[0;34m(\u001b[0m\u001b[0mkey\u001b[0m\u001b[0;34m)\u001b[0m\u001b[0;34m:\u001b[0m\u001b[0;34m\u001b[0m\u001b[0m\n\u001b[0;32m-> 1790\u001b[0;31m                     \u001b[0merror\u001b[0m\u001b[0;34m(\u001b[0m\u001b[0;34m)\u001b[0m\u001b[0;34m\u001b[0m\u001b[0m\n\u001b[0m\u001b[1;32m   1791\u001b[0m             \u001b[0;32mexcept\u001b[0m \u001b[0mTypeError\u001b[0m \u001b[0;32mas\u001b[0m \u001b[0me\u001b[0m\u001b[0;34m:\u001b[0m\u001b[0;34m\u001b[0m\u001b[0m\n",
      "\u001b[0;32m/opt/conda/lib/python3.6/site-packages/pandas/core/indexing.py\u001b[0m in \u001b[0;36merror\u001b[0;34m()\u001b[0m\n\u001b[1;32m   1784\u001b[0m                                .format(key=key,\n\u001b[0;32m-> 1785\u001b[0;31m                                        axis=self.obj._get_axis_name(axis)))\n\u001b[0m\u001b[1;32m   1786\u001b[0m \u001b[0;34m\u001b[0m\u001b[0m\n",
      "\u001b[0;31mKeyError\u001b[0m: 'the label [null_in_row] is not in the [index]'",
      "\nDuring handling of the above exception, another exception occurred:\n",
      "\u001b[0;31mKeyError\u001b[0m                                  Traceback (most recent call last)",
      "\u001b[0;32m<ipython-input-184-dbbd0f29ef67>\u001b[0m in \u001b[0;36m<module>\u001b[0;34m()\u001b[0m\n\u001b[1;32m      2\u001b[0m \u001b[0;34m\u001b[0m\u001b[0m\n\u001b[1;32m      3\u001b[0m \u001b[0mtest\u001b[0m\u001b[0;34m=\u001b[0m \u001b[0mazdias\u001b[0m\u001b[0;34m.\u001b[0m\u001b[0mcopy\u001b[0m\u001b[0;34m(\u001b[0m\u001b[0;34m)\u001b[0m\u001b[0;34m\u001b[0m\u001b[0m\n\u001b[0;32m----> 4\u001b[0;31m \u001b[0mtest\u001b[0m\u001b[0;34m=\u001b[0m \u001b[0mclean_data\u001b[0m\u001b[0;34m(\u001b[0m\u001b[0mtest\u001b[0m\u001b[0;34m)\u001b[0m\u001b[0;34m\u001b[0m\u001b[0m\n\u001b[0m\u001b[1;32m      5\u001b[0m \u001b[0mtest\u001b[0m\u001b[0;34m.\u001b[0m\u001b[0mshape\u001b[0m\u001b[0;34m\u001b[0m\u001b[0m\n",
      "\u001b[0;32m<ipython-input-183-88cb11f241ea>\u001b[0m in \u001b[0;36mclean_data\u001b[0;34m(df)\u001b[0m\n\u001b[1;32m     30\u001b[0m \u001b[0;34m\u001b[0m\u001b[0m\n\u001b[1;32m     31\u001b[0m     \u001b[0;32mfor\u001b[0m \u001b[0mx\u001b[0m \u001b[0;32min\u001b[0m \u001b[0mdf\u001b[0m\u001b[0;34m.\u001b[0m\u001b[0mcolumns\u001b[0m\u001b[0;34m:\u001b[0m\u001b[0;34m\u001b[0m\u001b[0m\n\u001b[0;32m---> 32\u001b[0;31m         \u001b[0mdf\u001b[0m\u001b[0;34m[\u001b[0m\u001b[0mx\u001b[0m\u001b[0;34m]\u001b[0m\u001b[0;34m.\u001b[0m\u001b[0mreplace\u001b[0m\u001b[0;34m(\u001b[0m\u001b[0mfeat_index\u001b[0m\u001b[0;34m.\u001b[0m\u001b[0mloc\u001b[0m\u001b[0;34m[\u001b[0m\u001b[0mx\u001b[0m\u001b[0;34m]\u001b[0m\u001b[0;34m.\u001b[0m\u001b[0mloc\u001b[0m\u001b[0;34m[\u001b[0m\u001b[0;34m'Null'\u001b[0m\u001b[0;34m]\u001b[0m\u001b[0;34m,\u001b[0m\u001b[0mnp\u001b[0m\u001b[0;34m.\u001b[0m\u001b[0mNaN\u001b[0m\u001b[0;34m,\u001b[0m\u001b[0minplace\u001b[0m\u001b[0;34m=\u001b[0m\u001b[0;32mTrue\u001b[0m\u001b[0;34m)\u001b[0m\u001b[0;34m\u001b[0m\u001b[0m\n\u001b[0m\u001b[1;32m     33\u001b[0m \u001b[0;34m\u001b[0m\u001b[0m\n\u001b[1;32m     34\u001b[0m \u001b[0;34m\u001b[0m\u001b[0m\n",
      "\u001b[0;32m/opt/conda/lib/python3.6/site-packages/pandas/core/indexing.py\u001b[0m in \u001b[0;36m__getitem__\u001b[0;34m(self, key)\u001b[0m\n\u001b[1;32m   1476\u001b[0m \u001b[0;34m\u001b[0m\u001b[0m\n\u001b[1;32m   1477\u001b[0m             \u001b[0mmaybe_callable\u001b[0m \u001b[0;34m=\u001b[0m \u001b[0mcom\u001b[0m\u001b[0;34m.\u001b[0m\u001b[0m_apply_if_callable\u001b[0m\u001b[0;34m(\u001b[0m\u001b[0mkey\u001b[0m\u001b[0;34m,\u001b[0m \u001b[0mself\u001b[0m\u001b[0;34m.\u001b[0m\u001b[0mobj\u001b[0m\u001b[0;34m)\u001b[0m\u001b[0;34m\u001b[0m\u001b[0m\n\u001b[0;32m-> 1478\u001b[0;31m             \u001b[0;32mreturn\u001b[0m \u001b[0mself\u001b[0m\u001b[0;34m.\u001b[0m\u001b[0m_getitem_axis\u001b[0m\u001b[0;34m(\u001b[0m\u001b[0mmaybe_callable\u001b[0m\u001b[0;34m,\u001b[0m \u001b[0maxis\u001b[0m\u001b[0;34m=\u001b[0m\u001b[0maxis\u001b[0m\u001b[0;34m)\u001b[0m\u001b[0;34m\u001b[0m\u001b[0m\n\u001b[0m\u001b[1;32m   1479\u001b[0m \u001b[0;34m\u001b[0m\u001b[0m\n\u001b[1;32m   1480\u001b[0m     \u001b[0;32mdef\u001b[0m \u001b[0m_is_scalar_access\u001b[0m\u001b[0;34m(\u001b[0m\u001b[0mself\u001b[0m\u001b[0;34m,\u001b[0m \u001b[0mkey\u001b[0m\u001b[0;34m)\u001b[0m\u001b[0;34m:\u001b[0m\u001b[0;34m\u001b[0m\u001b[0m\n",
      "\u001b[0;32m/opt/conda/lib/python3.6/site-packages/pandas/core/indexing.py\u001b[0m in \u001b[0;36m_getitem_axis\u001b[0;34m(self, key, axis)\u001b[0m\n\u001b[1;32m   1909\u001b[0m \u001b[0;34m\u001b[0m\u001b[0m\n\u001b[1;32m   1910\u001b[0m         \u001b[0;31m# fall thru to straight lookup\u001b[0m\u001b[0;34m\u001b[0m\u001b[0;34m\u001b[0m\u001b[0m\n\u001b[0;32m-> 1911\u001b[0;31m         \u001b[0mself\u001b[0m\u001b[0;34m.\u001b[0m\u001b[0m_validate_key\u001b[0m\u001b[0;34m(\u001b[0m\u001b[0mkey\u001b[0m\u001b[0;34m,\u001b[0m \u001b[0maxis\u001b[0m\u001b[0;34m)\u001b[0m\u001b[0;34m\u001b[0m\u001b[0m\n\u001b[0m\u001b[1;32m   1912\u001b[0m         \u001b[0;32mreturn\u001b[0m \u001b[0mself\u001b[0m\u001b[0;34m.\u001b[0m\u001b[0m_get_label\u001b[0m\u001b[0;34m(\u001b[0m\u001b[0mkey\u001b[0m\u001b[0;34m,\u001b[0m \u001b[0maxis\u001b[0m\u001b[0;34m=\u001b[0m\u001b[0maxis\u001b[0m\u001b[0;34m)\u001b[0m\u001b[0;34m\u001b[0m\u001b[0m\n\u001b[1;32m   1913\u001b[0m \u001b[0;34m\u001b[0m\u001b[0m\n",
      "\u001b[0;32m/opt/conda/lib/python3.6/site-packages/pandas/core/indexing.py\u001b[0m in \u001b[0;36m_validate_key\u001b[0;34m(self, key, axis)\u001b[0m\n\u001b[1;32m   1796\u001b[0m                 \u001b[0;32mraise\u001b[0m\u001b[0;34m\u001b[0m\u001b[0m\n\u001b[1;32m   1797\u001b[0m             \u001b[0;32mexcept\u001b[0m\u001b[0;34m:\u001b[0m\u001b[0;34m\u001b[0m\u001b[0m\n\u001b[0;32m-> 1798\u001b[0;31m                 \u001b[0merror\u001b[0m\u001b[0;34m(\u001b[0m\u001b[0;34m)\u001b[0m\u001b[0;34m\u001b[0m\u001b[0m\n\u001b[0m\u001b[1;32m   1799\u001b[0m \u001b[0;34m\u001b[0m\u001b[0m\n\u001b[1;32m   1800\u001b[0m     \u001b[0;32mdef\u001b[0m \u001b[0m_is_scalar_access\u001b[0m\u001b[0;34m(\u001b[0m\u001b[0mself\u001b[0m\u001b[0;34m,\u001b[0m \u001b[0mkey\u001b[0m\u001b[0;34m)\u001b[0m\u001b[0;34m:\u001b[0m\u001b[0;34m\u001b[0m\u001b[0m\n",
      "\u001b[0;32m/opt/conda/lib/python3.6/site-packages/pandas/core/indexing.py\u001b[0m in \u001b[0;36merror\u001b[0;34m()\u001b[0m\n\u001b[1;32m   1783\u001b[0m                 raise KeyError(u\"the label [{key}] is not in the [{axis}]\"\n\u001b[1;32m   1784\u001b[0m                                .format(key=key,\n\u001b[0;32m-> 1785\u001b[0;31m                                        axis=self.obj._get_axis_name(axis)))\n\u001b[0m\u001b[1;32m   1786\u001b[0m \u001b[0;34m\u001b[0m\u001b[0m\n\u001b[1;32m   1787\u001b[0m             \u001b[0;32mtry\u001b[0m\u001b[0;34m:\u001b[0m\u001b[0;34m\u001b[0m\u001b[0m\n",
      "\u001b[0;31mKeyError\u001b[0m: 'the label [null_in_row] is not in the [index]'"
     ]
    }
   ],
   "source": [
    "#test clean_data function\n",
    "\n",
    "test= azdias.copy()\n",
    "test= clean_data(test)\n",
    "test.shape"
   ]
  },
  {
   "cell_type": "markdown",
   "metadata": {},
   "source": [
    "## Step 2: Feature Transformation\n",
    "\n",
    "### Step 2.1: Apply Feature Scaling\n",
    "\n",
    "Before we apply dimensionality reduction techniques to the data, we need to perform feature scaling so that the principal component vectors are not influenced by the natural differences in scale for features. Starting from this part of the project, you'll want to keep an eye on the [API reference page for sklearn](http://scikit-learn.org/stable/modules/classes.html) to help you navigate to all of the classes and functions that you'll need. In this substep, you'll need to check the following:\n",
    "\n",
    "- sklearn requires that data not have missing values in order for its estimators to work properly. So, before applying the scaler to your data, make sure that you've cleaned the DataFrame of the remaining missing values. This can be as simple as just removing all data points with missing data, or applying an [Imputer](http://scikit-learn.org/stable/modules/generated/sklearn.preprocessing.Imputer.html) to replace all missing values. You might also try a more complicated procedure where you temporarily remove missing values in order to compute the scaling parameters before re-introducing those missing values and applying imputation. Think about how much missing data you have and what possible effects each approach might have on your analysis, and justify your decision in the discussion section below.\n",
    "- For the actual scaling function, a [StandardScaler](http://scikit-learn.org/stable/modules/generated/sklearn.preprocessing.StandardScaler.html) instance is suggested, scaling each feature to mean 0 and standard deviation 1.\n",
    "- For these classes, you can make use of the `.fit_transform()` method to both fit a procedure to the data as well as apply the transformation to the data at the same time. Don't forget to keep the fit sklearn objects handy, since you'll be applying them to the customer demographics data towards the end of the project."
   ]
  },
  {
   "cell_type": "code",
   "execution_count": 185,
   "metadata": {},
   "outputs": [],
   "source": [
    "# If you've not yet cleaned the dataset of all NaN values, then investigate and\n",
    "# do that now.\n",
    "\n",
    "imputed_data= data.copy()\n",
    "imputer= Imputer(missing_values='NaN', strategy='median', axis=0)\n",
    "imputed_data= imputer.fit_transform(imputed_data)"
   ]
  },
  {
   "cell_type": "code",
   "execution_count": 186,
   "metadata": {},
   "outputs": [
    {
     "data": {
      "text/plain": [
       "0"
      ]
     },
     "execution_count": 186,
     "metadata": {},
     "output_type": "execute_result"
    }
   ],
   "source": [
    "data_without_null= pd.DataFrame(imputed_data, columns= data.columns)\n",
    "data_without_null.isna().sum().sum()"
   ]
  },
  {
   "cell_type": "code",
   "execution_count": 187,
   "metadata": {},
   "outputs": [],
   "source": [
    "# Apply feature scaling to the general population demographics data.\n",
    "\n",
    "scaler = StandardScaler()\n",
    "scaler.fit(data_without_null)\n",
    "scaled_data = scaler.transform(data_without_null)"
   ]
  },
  {
   "cell_type": "code",
   "execution_count": 188,
   "metadata": {},
   "outputs": [
    {
     "data": {
      "text/html": [
       "<div>\n",
       "<style scoped>\n",
       "    .dataframe tbody tr th:only-of-type {\n",
       "        vertical-align: middle;\n",
       "    }\n",
       "\n",
       "    .dataframe tbody tr th {\n",
       "        vertical-align: top;\n",
       "    }\n",
       "\n",
       "    .dataframe thead th {\n",
       "        text-align: right;\n",
       "    }\n",
       "</style>\n",
       "<table border=\"1\" class=\"dataframe\">\n",
       "  <thead>\n",
       "    <tr style=\"text-align: right;\">\n",
       "      <th></th>\n",
       "      <th>ALTERSKATEGORIE_GROB</th>\n",
       "      <th>ANREDE_KZ</th>\n",
       "      <th>FINANZ_MINIMALIST</th>\n",
       "      <th>FINANZ_SPARER</th>\n",
       "      <th>FINANZ_VORSORGER</th>\n",
       "      <th>FINANZ_ANLEGER</th>\n",
       "      <th>FINANZ_UNAUFFAELLIGER</th>\n",
       "      <th>FINANZ_HAUSBAUER</th>\n",
       "      <th>GEBURTSJAHR</th>\n",
       "      <th>GREEN_AVANTGARDE</th>\n",
       "      <th>...</th>\n",
       "      <th>PLZ8_ANTG4</th>\n",
       "      <th>PLZ8_HHZ</th>\n",
       "      <th>PLZ8_GBZ</th>\n",
       "      <th>ARBEIT</th>\n",
       "      <th>ORTSGR_KLS9</th>\n",
       "      <th>RELAT_AB</th>\n",
       "      <th>generation_by_decade</th>\n",
       "      <th>generation_by_movement</th>\n",
       "      <th>wealth</th>\n",
       "      <th>life_stage</th>\n",
       "    </tr>\n",
       "  </thead>\n",
       "  <tbody>\n",
       "    <tr>\n",
       "      <th>count</th>\n",
       "      <td>797681.00</td>\n",
       "      <td>797681.00</td>\n",
       "      <td>797681.00</td>\n",
       "      <td>797681.00</td>\n",
       "      <td>797681.00</td>\n",
       "      <td>797681.00</td>\n",
       "      <td>797681.00</td>\n",
       "      <td>797681.00</td>\n",
       "      <td>797681.00</td>\n",
       "      <td>797681.00</td>\n",
       "      <td>...</td>\n",
       "      <td>797681.00</td>\n",
       "      <td>797681.00</td>\n",
       "      <td>797681.00</td>\n",
       "      <td>797681.00</td>\n",
       "      <td>797681.00</td>\n",
       "      <td>797681.00</td>\n",
       "      <td>797681.00</td>\n",
       "      <td>797681.00</td>\n",
       "      <td>797681.00</td>\n",
       "      <td>797681.00</td>\n",
       "    </tr>\n",
       "    <tr>\n",
       "      <th>mean</th>\n",
       "      <td>-0.00</td>\n",
       "      <td>0.00</td>\n",
       "      <td>0.00</td>\n",
       "      <td>0.00</td>\n",
       "      <td>-0.00</td>\n",
       "      <td>-0.00</td>\n",
       "      <td>-0.00</td>\n",
       "      <td>0.00</td>\n",
       "      <td>0.00</td>\n",
       "      <td>0.00</td>\n",
       "      <td>...</td>\n",
       "      <td>0.00</td>\n",
       "      <td>-0.00</td>\n",
       "      <td>-0.00</td>\n",
       "      <td>-0.00</td>\n",
       "      <td>-0.00</td>\n",
       "      <td>0.00</td>\n",
       "      <td>0.00</td>\n",
       "      <td>0.00</td>\n",
       "      <td>0.00</td>\n",
       "      <td>-0.00</td>\n",
       "    </tr>\n",
       "    <tr>\n",
       "      <th>std</th>\n",
       "      <td>1.00</td>\n",
       "      <td>1.00</td>\n",
       "      <td>1.00</td>\n",
       "      <td>1.00</td>\n",
       "      <td>1.00</td>\n",
       "      <td>1.00</td>\n",
       "      <td>1.00</td>\n",
       "      <td>1.00</td>\n",
       "      <td>1.00</td>\n",
       "      <td>1.00</td>\n",
       "      <td>...</td>\n",
       "      <td>1.00</td>\n",
       "      <td>1.00</td>\n",
       "      <td>1.00</td>\n",
       "      <td>1.00</td>\n",
       "      <td>1.00</td>\n",
       "      <td>1.00</td>\n",
       "      <td>1.00</td>\n",
       "      <td>1.00</td>\n",
       "      <td>1.00</td>\n",
       "      <td>1.00</td>\n",
       "    </tr>\n",
       "    <tr>\n",
       "      <th>min</th>\n",
       "      <td>-1.77</td>\n",
       "      <td>-1.04</td>\n",
       "      <td>-1.49</td>\n",
       "      <td>-1.16</td>\n",
       "      <td>-1.77</td>\n",
       "      <td>-1.25</td>\n",
       "      <td>-1.18</td>\n",
       "      <td>-1.50</td>\n",
       "      <td>-4.85</td>\n",
       "      <td>-0.53</td>\n",
       "      <td>...</td>\n",
       "      <td>-0.99</td>\n",
       "      <td>-2.73</td>\n",
       "      <td>-2.16</td>\n",
       "      <td>-2.17</td>\n",
       "      <td>-1.87</td>\n",
       "      <td>-1.53</td>\n",
       "      <td>-2.32</td>\n",
       "      <td>-0.53</td>\n",
       "      <td>-1.55</td>\n",
       "      <td>-1.27</td>\n",
       "    </tr>\n",
       "    <tr>\n",
       "      <th>25%</th>\n",
       "      <td>-0.78</td>\n",
       "      <td>-1.04</td>\n",
       "      <td>-0.77</td>\n",
       "      <td>-1.16</td>\n",
       "      <td>-1.04</td>\n",
       "      <td>-1.25</td>\n",
       "      <td>-1.18</td>\n",
       "      <td>-0.79</td>\n",
       "      <td>-0.32</td>\n",
       "      <td>-0.53</td>\n",
       "      <td>...</td>\n",
       "      <td>-0.99</td>\n",
       "      <td>-0.65</td>\n",
       "      <td>-0.34</td>\n",
       "      <td>-0.17</td>\n",
       "      <td>-0.56</td>\n",
       "      <td>-0.79</td>\n",
       "      <td>-0.92</td>\n",
       "      <td>-0.53</td>\n",
       "      <td>-0.87</td>\n",
       "      <td>-1.27</td>\n",
       "    </tr>\n",
       "    <tr>\n",
       "      <th>50%</th>\n",
       "      <td>0.20</td>\n",
       "      <td>0.96</td>\n",
       "      <td>-0.04</td>\n",
       "      <td>0.19</td>\n",
       "      <td>0.41</td>\n",
       "      <td>0.11</td>\n",
       "      <td>-0.47</td>\n",
       "      <td>-0.08</td>\n",
       "      <td>0.04</td>\n",
       "      <td>-0.53</td>\n",
       "      <td>...</td>\n",
       "      <td>0.41</td>\n",
       "      <td>0.39</td>\n",
       "      <td>-0.34</td>\n",
       "      <td>-0.17</td>\n",
       "      <td>-0.13</td>\n",
       "      <td>-0.05</td>\n",
       "      <td>-0.22</td>\n",
       "      <td>-0.53</td>\n",
       "      <td>0.50</td>\n",
       "      <td>0.09</td>\n",
       "    </tr>\n",
       "    <tr>\n",
       "      <th>75%</th>\n",
       "      <td>1.18</td>\n",
       "      <td>0.96</td>\n",
       "      <td>0.68</td>\n",
       "      <td>0.86</td>\n",
       "      <td>1.14</td>\n",
       "      <td>0.79</td>\n",
       "      <td>0.96</td>\n",
       "      <td>0.63</td>\n",
       "      <td>0.33</td>\n",
       "      <td>-0.53</td>\n",
       "      <td>...</td>\n",
       "      <td>0.41</td>\n",
       "      <td>0.39</td>\n",
       "      <td>0.57</td>\n",
       "      <td>0.84</td>\n",
       "      <td>0.74</td>\n",
       "      <td>0.68</td>\n",
       "      <td>1.17</td>\n",
       "      <td>-0.53</td>\n",
       "      <td>1.19</td>\n",
       "      <td>0.76</td>\n",
       "    </tr>\n",
       "    <tr>\n",
       "      <th>max</th>\n",
       "      <td>1.18</td>\n",
       "      <td>0.96</td>\n",
       "      <td>1.41</td>\n",
       "      <td>1.54</td>\n",
       "      <td>1.14</td>\n",
       "      <td>1.47</td>\n",
       "      <td>1.67</td>\n",
       "      <td>1.34</td>\n",
       "      <td>3.56</td>\n",
       "      <td>1.88</td>\n",
       "      <td>...</td>\n",
       "      <td>1.80</td>\n",
       "      <td>1.43</td>\n",
       "      <td>1.49</td>\n",
       "      <td>1.84</td>\n",
       "      <td>1.61</td>\n",
       "      <td>1.42</td>\n",
       "      <td>1.17</td>\n",
       "      <td>1.88</td>\n",
       "      <td>1.19</td>\n",
       "      <td>1.44</td>\n",
       "    </tr>\n",
       "  </tbody>\n",
       "</table>\n",
       "<p>8 rows × 66 columns</p>\n",
       "</div>"
      ],
      "text/plain": [
       "       ALTERSKATEGORIE_GROB  ANREDE_KZ  FINANZ_MINIMALIST  FINANZ_SPARER  \\\n",
       "count             797681.00  797681.00          797681.00      797681.00   \n",
       "mean                  -0.00       0.00               0.00           0.00   \n",
       "std                    1.00       1.00               1.00           1.00   \n",
       "min                   -1.77      -1.04              -1.49          -1.16   \n",
       "25%                   -0.78      -1.04              -0.77          -1.16   \n",
       "50%                    0.20       0.96              -0.04           0.19   \n",
       "75%                    1.18       0.96               0.68           0.86   \n",
       "max                    1.18       0.96               1.41           1.54   \n",
       "\n",
       "       FINANZ_VORSORGER  FINANZ_ANLEGER  FINANZ_UNAUFFAELLIGER  \\\n",
       "count         797681.00       797681.00              797681.00   \n",
       "mean              -0.00           -0.00                  -0.00   \n",
       "std                1.00            1.00                   1.00   \n",
       "min               -1.77           -1.25                  -1.18   \n",
       "25%               -1.04           -1.25                  -1.18   \n",
       "50%                0.41            0.11                  -0.47   \n",
       "75%                1.14            0.79                   0.96   \n",
       "max                1.14            1.47                   1.67   \n",
       "\n",
       "       FINANZ_HAUSBAUER  GEBURTSJAHR  GREEN_AVANTGARDE     ...      \\\n",
       "count         797681.00    797681.00         797681.00     ...       \n",
       "mean               0.00         0.00              0.00     ...       \n",
       "std                1.00         1.00              1.00     ...       \n",
       "min               -1.50        -4.85             -0.53     ...       \n",
       "25%               -0.79        -0.32             -0.53     ...       \n",
       "50%               -0.08         0.04             -0.53     ...       \n",
       "75%                0.63         0.33             -0.53     ...       \n",
       "max                1.34         3.56              1.88     ...       \n",
       "\n",
       "       PLZ8_ANTG4   PLZ8_HHZ   PLZ8_GBZ     ARBEIT  ORTSGR_KLS9   RELAT_AB  \\\n",
       "count   797681.00  797681.00  797681.00  797681.00    797681.00  797681.00   \n",
       "mean         0.00      -0.00      -0.00      -0.00        -0.00       0.00   \n",
       "std          1.00       1.00       1.00       1.00         1.00       1.00   \n",
       "min         -0.99      -2.73      -2.16      -2.17        -1.87      -1.53   \n",
       "25%         -0.99      -0.65      -0.34      -0.17        -0.56      -0.79   \n",
       "50%          0.41       0.39      -0.34      -0.17        -0.13      -0.05   \n",
       "75%          0.41       0.39       0.57       0.84         0.74       0.68   \n",
       "max          1.80       1.43       1.49       1.84         1.61       1.42   \n",
       "\n",
       "       generation_by_decade  generation_by_movement     wealth  life_stage  \n",
       "count             797681.00               797681.00  797681.00   797681.00  \n",
       "mean                   0.00                    0.00       0.00       -0.00  \n",
       "std                    1.00                    1.00       1.00        1.00  \n",
       "min                   -2.32                   -0.53      -1.55       -1.27  \n",
       "25%                   -0.92                   -0.53      -0.87       -1.27  \n",
       "50%                   -0.22                   -0.53       0.50        0.09  \n",
       "75%                    1.17                   -0.53       1.19        0.76  \n",
       "max                    1.17                    1.88       1.19        1.44  \n",
       "\n",
       "[8 rows x 66 columns]"
      ]
     },
     "execution_count": 188,
     "metadata": {},
     "output_type": "execute_result"
    }
   ],
   "source": [
    "#check data after scaling\n",
    "\n",
    "scaled_data= pd.DataFrame(scaled_data, columns=data.columns)\n",
    "round(scaled_data.describe(),2)"
   ]
  },
  {
   "cell_type": "markdown",
   "metadata": {},
   "source": [
    "### Discussion 2.1: Apply Feature Scaling\n",
    "\n",
    "Because we kept columns and rows that have few missing values in the data, we have to deal with them by using imputer and we used the median strategy because there are a lot of categorical variables. Second step: we use StandardScaler to compute the mean and std for the columns first and then transform the data by centering and scaling the values."
   ]
  },
  {
   "cell_type": "markdown",
   "metadata": {},
   "source": [
    "### Step 2.2: Perform Dimensionality Reduction\n",
    "\n",
    "On your scaled data, you are now ready to apply dimensionality reduction techniques.\n",
    "\n",
    "- Use sklearn's [PCA](http://scikit-learn.org/stable/modules/generated/sklearn.decomposition.PCA.html) class to apply principal component analysis on the data, thus finding the vectors of maximal variance in the data. To start, you should not set any parameters (so all components are computed) or set a number of components that is at least half the number of features (so there's enough features to see the general trend in variability).\n",
    "- Check out the ratio of variance explained by each principal component as well as the cumulative variance explained. Try plotting the cumulative or sequential values using matplotlib's [`plot()`](https://matplotlib.org/api/_as_gen/matplotlib.pyplot.plot.html) function. Based on what you find, select a value for the number of transformed features you'll retain for the clustering part of the project.\n",
    "- Once you've made a choice for the number of components to keep, make sure you re-fit a PCA instance to perform the decided-on transformation."
   ]
  },
  {
   "cell_type": "code",
   "execution_count": 242,
   "metadata": {},
   "outputs": [],
   "source": [
    "# Apply PCA to the data.\n",
    "\n",
    "pca_0 = PCA()\n",
    "pca_data_0 = pca_0.fit(scaled_data)"
   ]
  },
  {
   "cell_type": "code",
   "execution_count": 243,
   "metadata": {},
   "outputs": [
    {
     "data": {
      "image/png": "[encoded data removed]",
      "text/plain": [
       "<matplotlib.figure.Figure at 0x7f09cc890b38>"
      ]
     },
     "metadata": {
      "needs_background": "light"
     },
     "output_type": "display_data"
    }
   ],
   "source": [
    "# Investigate the variance accounted for by each principal component.\n",
    "\n",
    "n_components=len(pca_0.explained_variance_ratio_)\n",
    "indexs = np.arange(n_components)\n",
    "explained_var = pca_0.explained_variance_ratio_\n",
    "\n",
    "fig, ax = plt.subplots(figsize=(12,6))\n",
    "plt.bar(indexs, explained_var, color='grey')\n",
    "plt.xlabel(\"The number of components\", size=10)\n",
    "plt.ylabel(\"The explained variance ratio\", size=10)\n",
    "plt.title(\"The variance ratio for each principal component \"  '\\n')\n",
    "plt.show()\n"
   ]
  },
  {
   "cell_type": "code",
   "execution_count": 244,
   "metadata": {},
   "outputs": [
    {
     "data": {
      "image/png": "[encoded data removed]",
      "text/plain": [
       "<matplotlib.figure.Figure at 0x7f09cc7cdac8>"
      ]
     },
     "metadata": {
      "needs_background": "light"
     },
     "output_type": "display_data"
    }
   ],
   "source": [
    "# Re-apply PCA to the data while selecting for number of components to retain.\n",
    "\n",
    "num_pca = PCA(n_components= 33)\n",
    "num_pca_data = num_pca.fit(scaled_data)\n",
    "index_2=  np.arange(num_pca.n_components)\n",
    "variation= num_pca.explained_variance_ratio_\n",
    "\n",
    "plt.figure(figsize = (12,6))\n",
    "ax = plt.subplot(111)\n",
    "cumvals = np.cumsum(variation)\n",
    "ax.bar(index_2,variation, color='black')\n",
    "ax.plot(index_2,cumvals, color= 'grey')\n",
    "\n",
    "\n",
    "ax.set_xlabel(\"Num of Principal Components\", size=10)\n",
    "ax.set_ylabel(\" Explained cumulative variance (%)\", size=10)\n",
    "plt.title('Explained Variance Per Principal Component' '\\n')\n",
    "plt.show()"
   ]
  },
  {
   "cell_type": "markdown",
   "metadata": {},
   "source": [
    "### Discussion 2.2: Perform Dimensionality Reduction\n",
    "\n",
    "We applied PCA() to know the explained variation ratio for per components (features). The first components explaine large variance in the data and when we add more components, the variance of the new components are small. Therefore we choose to retain the half of features which are 33 components. In the second chart computing the explained cumulative variance for the 33 components that reached to the 85%. "
   ]
  },
  {
   "cell_type": "markdown",
   "metadata": {},
   "source": [
    "### Step 2.3: Interpret Principal Components\n",
    "\n",
    "Now that we have our transformed principal components, it's a nice idea to check out the weight of each variable on the first few components to see if they can be interpreted in some fashion.\n",
    "\n",
    "As a reminder, each principal component is a unit vector that points in the direction of highest variance (after accounting for the variance captured by earlier principal components). The further a weight is from zero, the more the principal component is in the direction of the corresponding feature. If two features have large weights of the same sign (both positive or both negative), then increases in one tend expect to be associated with increases in the other. To contrast, features with different signs can be expected to show a negative correlation: increases in one variable should result in a decrease in the other.\n",
    "\n",
    "- To investigate the features, you should map each weight to their corresponding feature name, then sort the features according to weight. The most interesting features for each principal component, then, will be those at the beginning and end of the sorted list. Use the data dictionary document to help you understand these most prominent features, their relationships, and what a positive or negative value on the principal component might indicate.\n",
    "- You should investigate and interpret feature associations from the first three principal components in this substep. To help facilitate this, you should write a function that you can call at any time to print the sorted list of feature weights, for the *i*-th principal component. This might come in handy in the next step of the project, when you interpret the tendencies of the discovered clusters."
   ]
  },
  {
   "cell_type": "code",
   "execution_count": 192,
   "metadata": {},
   "outputs": [],
   "source": [
    "# Map weights for the first principal component to corresponding feature names\n",
    "# and then print the linked values, sorted by weight.\n",
    "# HINT: Try defining a function here or in a new cell that you can reuse in the\n",
    "# other cells.\n",
    "\n",
    "def weights_pca(pca, i, num):\n",
    "    df = pd.DataFrame(pca.components_, columns=(data.columns))\n",
    "    weights_1 = df.iloc[i].sort_values(ascending=False)[:10]\n",
    "    weights_2 = df.iloc[i].sort_values(ascending=False)[:-10]\n",
    "    \n",
    "    return weights_1, weights_2"
   ]
  },
  {
   "cell_type": "code",
   "execution_count": 193,
   "metadata": {},
   "outputs": [
    {
     "data": {
      "text/plain": [
       "(PLZ8_ANTG3            0.211601\n",
       " PLZ8_ANTG4            0.205514\n",
       " wealth                0.194292\n",
       " HH_EINKOMMEN_SCORE    0.193590\n",
       " ORTSGR_KLS9           0.183793\n",
       " EWDICHTE              0.181938\n",
       " FINANZ_SPARER         0.174825\n",
       " FINANZ_HAUSBAUER      0.145160\n",
       " KBA05_ANTG4           0.144437\n",
       " PLZ8_ANTG2            0.144147\n",
       " Name: 0, dtype: float64, PLZ8_ANTG3                0.211601\n",
       " PLZ8_ANTG4                0.205514\n",
       " wealth                    0.194292\n",
       " HH_EINKOMMEN_SCORE        0.193590\n",
       " ORTSGR_KLS9               0.183793\n",
       " EWDICHTE                  0.181938\n",
       " FINANZ_SPARER             0.174825\n",
       " FINANZ_HAUSBAUER          0.145160\n",
       " KBA05_ANTG4               0.144437\n",
       " PLZ8_ANTG2                0.144147\n",
       " SEMIO_PFLICHT             0.139091\n",
       " SEMIO_REL                 0.137272\n",
       " generation_by_decade      0.132996\n",
       " ARBEIT                    0.132982\n",
       " KBA05_ANTG3               0.130020\n",
       " ANZ_HAUSHALTE_AKTIV       0.126843\n",
       " RELAT_AB                  0.125715\n",
       " SEMIO_RAT                 0.114219\n",
       " SEMIO_TRADV               0.113359\n",
       " GEBURTSJAHR               0.111156\n",
       " FINANZ_UNAUFFAELLIGER     0.102193\n",
       " FINANZ_ANLEGER            0.096146\n",
       " SEMIO_MAT                 0.093327\n",
       " SEMIO_FAM                 0.092806\n",
       " SEMIO_KULT                0.091568\n",
       " ALTER_HH                  0.066875\n",
       " REGIOTYP                  0.065243\n",
       " SEMIO_SOZ                 0.049906\n",
       " OST_WEST_KZ               0.049382\n",
       " PLZ8_HHZ                  0.039544\n",
       " KKK                       0.038886\n",
       " HEALTH_TYP                0.036353\n",
       " SEMIO_KAEM                0.031449\n",
       " ANZ_HH_TITEL              0.030137\n",
       " VERS_TYP                  0.029538\n",
       " SEMIO_DOM                 0.020313\n",
       " W_KEIT_KIND_HH            0.017211\n",
       " KBA05_ANTG2               0.010954\n",
       " ANREDE_KZ                 0.002657\n",
       " SOHO_KZ                  -0.001750\n",
       " ANZ_TITEL                -0.004905\n",
       " SEMIO_KRIT               -0.005159\n",
       " ONLINE_AFFINITAET        -0.022426\n",
       " SEMIO_VERT               -0.036956\n",
       " RETOURTYP_BK_S           -0.040143\n",
       " MIN_GEBAEUDEJAHR         -0.041863\n",
       " WOHNDAUER_2008           -0.065892\n",
       " ANZ_PERSONEN             -0.067719\n",
       " KBA13_ANZAHL_PKW         -0.072716\n",
       " SEMIO_LUST               -0.092477\n",
       " SEMIO_ERL                -0.097595\n",
       " GREEN_AVANTGARDE         -0.105630\n",
       " generation_by_movement   -0.105630\n",
       " GEBAEUDETYP_RASTER       -0.110374\n",
       " BALLRAUM                 -0.118617\n",
       " life_stage               -0.124030\n",
       " Name: 0, dtype: float64)"
      ]
     },
     "execution_count": 193,
     "metadata": {},
     "output_type": "execute_result"
    }
   ],
   "source": [
    "weights_pca(num_pca, 0, 10)"
   ]
  },
  {
   "cell_type": "code",
   "execution_count": 195,
   "metadata": {},
   "outputs": [
    {
     "data": {
      "text/plain": [
       "(ALTERSKATEGORIE_GROB    0.229739\n",
       " FINANZ_VORSORGER        0.213240\n",
       " SEMIO_ERL               0.195556\n",
       " SEMIO_LUST              0.164959\n",
       " RETOURTYP_BK_S          0.162160\n",
       " FINANZ_HAUSBAUER        0.136853\n",
       " W_KEIT_KIND_HH          0.131124\n",
       " PLZ8_ANTG3              0.121010\n",
       " PLZ8_ANTG4              0.115864\n",
       " EWDICHTE                0.115530\n",
       " Name: 1, dtype: float64, ALTERSKATEGORIE_GROB      0.229739\n",
       " FINANZ_VORSORGER          0.213240\n",
       " SEMIO_ERL                 0.195556\n",
       " SEMIO_LUST                0.164959\n",
       " RETOURTYP_BK_S            0.162160\n",
       " FINANZ_HAUSBAUER          0.136853\n",
       " W_KEIT_KIND_HH            0.131124\n",
       " PLZ8_ANTG3                0.121010\n",
       " PLZ8_ANTG4                0.115864\n",
       " EWDICHTE                  0.115530\n",
       " ORTSGR_KLS9               0.114447\n",
       " wealth                    0.102613\n",
       " SEMIO_KRIT                0.095866\n",
       " SEMIO_KAEM                0.094173\n",
       " KBA05_ANTG4               0.091395\n",
       " ARBEIT                    0.086354\n",
       " HH_EINKOMMEN_SCORE        0.083872\n",
       " PLZ8_ANTG2                0.083382\n",
       " RELAT_AB                  0.081845\n",
       " ANZ_HAUSHALTE_AKTIV       0.080748\n",
       " ANREDE_KZ                 0.067579\n",
       " KBA05_ANTG3               0.065906\n",
       " SEMIO_DOM                 0.053817\n",
       " WOHNDAUER_2008            0.051075\n",
       " FINANZ_MINIMALIST         0.039535\n",
       " ANZ_HH_TITEL              0.034718\n",
       " OST_WEST_KZ               0.034008\n",
       " VERS_TYP                  0.032827\n",
       " REGIOTYP                  0.026715\n",
       " PLZ8_HHZ                  0.017391\n",
       " ANZ_TITEL                 0.006469\n",
       " KKK                       0.005811\n",
       " SOHO_KZ                  -0.002089\n",
       " KBA05_ANTG2              -0.005630\n",
       " life_stage               -0.016024\n",
       " GREEN_AVANTGARDE         -0.031670\n",
       " generation_by_movement   -0.031670\n",
       " KBA13_ANZAHL_PKW         -0.045748\n",
       " HEALTH_TYP               -0.051900\n",
       " MIN_GEBAEUDEJAHR         -0.054190\n",
       " SEMIO_VERT               -0.054596\n",
       " GEBAEUDETYP_RASTER       -0.059343\n",
       " BALLRAUM                 -0.075816\n",
       " SEMIO_SOZ                -0.076700\n",
       " ANZ_PERSONEN             -0.077107\n",
       " KONSUMNAEHE              -0.091460\n",
       " PLZ8_GBZ                 -0.092195\n",
       " INNENSTADT               -0.094685\n",
       " KBA05_ANTG1              -0.105583\n",
       " KBA05_GBZ                -0.114739\n",
       " PLZ8_ANTG1               -0.119247\n",
       " MOBI_REGIO               -0.120682\n",
       " SEMIO_MAT                -0.135699\n",
       " SEMIO_FAM                -0.147122\n",
       " SEMIO_RAT                -0.154904\n",
       " ONLINE_AFFINITAET        -0.171223\n",
       " Name: 1, dtype: float64)"
      ]
     },
     "execution_count": 195,
     "metadata": {},
     "output_type": "execute_result"
    }
   ],
   "source": [
    "# Map weights for the second principal component to corresponding feature names\n",
    "# and then print the linked values, sorted by weight.\n",
    "\n",
    "weights_pca(num_pca, 1, 10)"
   ]
  },
  {
   "cell_type": "code",
   "execution_count": 196,
   "metadata": {},
   "outputs": [
    {
     "data": {
      "text/plain": [
       "(SEMIO_VERT           0.346386\n",
       " SEMIO_SOZ            0.269608\n",
       " SEMIO_FAM            0.266827\n",
       " SEMIO_KULT           0.255571\n",
       " FINANZ_MINIMALIST    0.144408\n",
       " SEMIO_REL            0.096721\n",
       " RETOURTYP_BK_S       0.094519\n",
       " W_KEIT_KIND_HH       0.084671\n",
       " FINANZ_VORSORGER     0.079067\n",
       " SEMIO_MAT            0.074314\n",
       " Name: 2, dtype: float64, SEMIO_VERT                0.346386\n",
       " SEMIO_SOZ                 0.269608\n",
       " SEMIO_FAM                 0.266827\n",
       " SEMIO_KULT                0.255571\n",
       " FINANZ_MINIMALIST         0.144408\n",
       " SEMIO_REL                 0.096721\n",
       " RETOURTYP_BK_S            0.094519\n",
       " W_KEIT_KIND_HH            0.084671\n",
       " FINANZ_VORSORGER          0.079067\n",
       " SEMIO_MAT                 0.074314\n",
       " ALTERSKATEGORIE_GROB      0.050181\n",
       " SEMIO_LUST                0.044538\n",
       " generation_by_movement    0.043878\n",
       " GREEN_AVANTGARDE          0.043878\n",
       " ORTSGR_KLS9               0.040364\n",
       " PLZ8_ANTG4                0.040239\n",
       " PLZ8_ANTG3                0.039839\n",
       " EWDICHTE                  0.039555\n",
       " ARBEIT                    0.031067\n",
       " RELAT_AB                  0.027586\n",
       " PLZ8_ANTG2                0.026578\n",
       " WOHNDAUER_2008            0.026131\n",
       " wealth                    0.025178\n",
       " KBA05_ANTG4               0.024224\n",
       " ANZ_HAUSHALTE_AKTIV       0.021868\n",
       " OST_WEST_KZ               0.014621\n",
       " ANZ_HH_TITEL              0.010714\n",
       " KBA05_ANTG3               0.009061\n",
       " ANZ_TITEL                 0.008675\n",
       " PLZ8_HHZ                  0.003380\n",
       " SOHO_KZ                   0.000325\n",
       " VERS_TYP                 -0.001484\n",
       " REGIOTYP                 -0.005139\n",
       " KBA05_ANTG2              -0.008355\n",
       " ANZ_PERSONEN             -0.009491\n",
       " life_stage               -0.010663\n",
       " KKK                      -0.013788\n",
       " MIN_GEBAEUDEJAHR         -0.013825\n",
       " HEALTH_TYP               -0.015907\n",
       " HH_EINKOMMEN_SCORE       -0.018291\n",
       " KBA05_ANTG1              -0.020061\n",
       " KBA13_ANZAHL_PKW         -0.021015\n",
       " KBA05_GBZ                -0.022398\n",
       " MOBI_REGIO               -0.026236\n",
       " GEBAEUDETYP_RASTER       -0.027807\n",
       " BALLRAUM                 -0.030078\n",
       " KONSUMNAEHE              -0.033579\n",
       " PLZ8_GBZ                 -0.034168\n",
       " INNENSTADT               -0.037453\n",
       " PLZ8_ANTG1               -0.041181\n",
       " ONLINE_AFFINITAET        -0.043552\n",
       " FINANZ_HAUSBAUER         -0.046546\n",
       " SEMIO_PFLICHT            -0.052218\n",
       " SEMIO_TRADV              -0.052714\n",
       " ALTER_HH                 -0.069646\n",
       " GEBURTSJAHR              -0.071868\n",
       " Name: 2, dtype: float64)"
      ]
     },
     "execution_count": 196,
     "metadata": {},
     "output_type": "execute_result"
    }
   ],
   "source": [
    "# Map weights for the third principal component to corresponding feature names\n",
    "# and then print the linked values, sorted by weight.\n",
    "\n",
    "weights_pca(num_pca, 2, 10)"
   ]
  },
  {
   "cell_type": "code",
   "execution_count": 245,
   "metadata": {},
   "outputs": [],
   "source": [
    "# Fit pca on X for 33 components\n",
    "\n",
    "pca = PCA(n_components=33)\n",
    "pca.fit(scaled_data)\n",
    "pca_data= pca.transform(scaled_data)"
   ]
  },
  {
   "cell_type": "code",
   "execution_count": 246,
   "metadata": {},
   "outputs": [
    {
     "data": {
      "text/plain": [
       "(797681, 33)"
      ]
     },
     "execution_count": 246,
     "metadata": {},
     "output_type": "execute_result"
    }
   ],
   "source": [
    "pca_data.shape"
   ]
  },
  {
   "cell_type": "code",
   "execution_count": 248,
   "metadata": {},
   "outputs": [
    {
     "data": {
      "text/html": [
       "<div>\n",
       "<style scoped>\n",
       "    .dataframe tbody tr th:only-of-type {\n",
       "        vertical-align: middle;\n",
       "    }\n",
       "\n",
       "    .dataframe tbody tr th {\n",
       "        vertical-align: top;\n",
       "    }\n",
       "\n",
       "    .dataframe thead th {\n",
       "        text-align: right;\n",
       "    }\n",
       "</style>\n",
       "<table border=\"1\" class=\"dataframe\">\n",
       "  <thead>\n",
       "    <tr style=\"text-align: right;\">\n",
       "      <th></th>\n",
       "      <th>0</th>\n",
       "      <th>1</th>\n",
       "      <th>2</th>\n",
       "      <th>3</th>\n",
       "      <th>4</th>\n",
       "      <th>5</th>\n",
       "      <th>6</th>\n",
       "      <th>7</th>\n",
       "      <th>8</th>\n",
       "      <th>9</th>\n",
       "      <th>...</th>\n",
       "      <th>23</th>\n",
       "      <th>24</th>\n",
       "      <th>25</th>\n",
       "      <th>26</th>\n",
       "      <th>27</th>\n",
       "      <th>28</th>\n",
       "      <th>29</th>\n",
       "      <th>30</th>\n",
       "      <th>31</th>\n",
       "      <th>32</th>\n",
       "    </tr>\n",
       "  </thead>\n",
       "  <tbody>\n",
       "    <tr>\n",
       "      <th>0</th>\n",
       "      <td>4.474843</td>\n",
       "      <td>-2.447288</td>\n",
       "      <td>-2.714427</td>\n",
       "      <td>-0.542358</td>\n",
       "      <td>-2.481414</td>\n",
       "      <td>2.415414</td>\n",
       "      <td>0.698454</td>\n",
       "      <td>-0.395256</td>\n",
       "      <td>-0.895817</td>\n",
       "      <td>1.289558</td>\n",
       "      <td>...</td>\n",
       "      <td>-0.990108</td>\n",
       "      <td>-0.454376</td>\n",
       "      <td>0.164528</td>\n",
       "      <td>0.015550</td>\n",
       "      <td>0.125879</td>\n",
       "      <td>-0.043326</td>\n",
       "      <td>1.011291</td>\n",
       "      <td>0.113938</td>\n",
       "      <td>-0.555400</td>\n",
       "      <td>-0.921542</td>\n",
       "    </tr>\n",
       "    <tr>\n",
       "      <th>1</th>\n",
       "      <td>-0.775411</td>\n",
       "      <td>-0.370603</td>\n",
       "      <td>-3.188152</td>\n",
       "      <td>2.308298</td>\n",
       "      <td>-0.838872</td>\n",
       "      <td>-0.123995</td>\n",
       "      <td>-0.253431</td>\n",
       "      <td>-1.452447</td>\n",
       "      <td>-1.584429</td>\n",
       "      <td>0.966177</td>\n",
       "      <td>...</td>\n",
       "      <td>-1.558851</td>\n",
       "      <td>0.421805</td>\n",
       "      <td>0.464408</td>\n",
       "      <td>0.047056</td>\n",
       "      <td>0.408833</td>\n",
       "      <td>1.268271</td>\n",
       "      <td>-0.481409</td>\n",
       "      <td>0.012907</td>\n",
       "      <td>0.445165</td>\n",
       "      <td>-0.469400</td>\n",
       "    </tr>\n",
       "    <tr>\n",
       "      <th>2</th>\n",
       "      <td>-4.091826</td>\n",
       "      <td>0.885004</td>\n",
       "      <td>-0.833075</td>\n",
       "      <td>-0.885841</td>\n",
       "      <td>0.321934</td>\n",
       "      <td>0.003187</td>\n",
       "      <td>-0.312130</td>\n",
       "      <td>0.531369</td>\n",
       "      <td>0.353865</td>\n",
       "      <td>-1.351753</td>\n",
       "      <td>...</td>\n",
       "      <td>-0.266550</td>\n",
       "      <td>-0.326488</td>\n",
       "      <td>0.009333</td>\n",
       "      <td>-0.307130</td>\n",
       "      <td>0.670277</td>\n",
       "      <td>0.135186</td>\n",
       "      <td>-0.498127</td>\n",
       "      <td>-0.417662</td>\n",
       "      <td>-1.000121</td>\n",
       "      <td>-1.017008</td>\n",
       "    </tr>\n",
       "    <tr>\n",
       "      <th>3</th>\n",
       "      <td>0.541019</td>\n",
       "      <td>0.234660</td>\n",
       "      <td>3.108269</td>\n",
       "      <td>0.741441</td>\n",
       "      <td>1.826214</td>\n",
       "      <td>-2.465304</td>\n",
       "      <td>2.906384</td>\n",
       "      <td>-0.354032</td>\n",
       "      <td>-0.539296</td>\n",
       "      <td>0.124254</td>\n",
       "      <td>...</td>\n",
       "      <td>-0.841053</td>\n",
       "      <td>0.343423</td>\n",
       "      <td>0.763087</td>\n",
       "      <td>0.200864</td>\n",
       "      <td>0.322092</td>\n",
       "      <td>-0.276473</td>\n",
       "      <td>-0.052130</td>\n",
       "      <td>-0.981843</td>\n",
       "      <td>0.007985</td>\n",
       "      <td>0.492451</td>\n",
       "    </tr>\n",
       "    <tr>\n",
       "      <th>4</th>\n",
       "      <td>-0.870002</td>\n",
       "      <td>-0.695543</td>\n",
       "      <td>-0.632730</td>\n",
       "      <td>-2.218790</td>\n",
       "      <td>-3.522619</td>\n",
       "      <td>-1.493099</td>\n",
       "      <td>-2.583026</td>\n",
       "      <td>3.222969</td>\n",
       "      <td>0.593771</td>\n",
       "      <td>0.782427</td>\n",
       "      <td>...</td>\n",
       "      <td>-0.608046</td>\n",
       "      <td>0.090432</td>\n",
       "      <td>-0.238749</td>\n",
       "      <td>0.358219</td>\n",
       "      <td>-1.364822</td>\n",
       "      <td>0.519193</td>\n",
       "      <td>-1.087383</td>\n",
       "      <td>0.067735</td>\n",
       "      <td>-0.491014</td>\n",
       "      <td>-0.086026</td>\n",
       "    </tr>\n",
       "  </tbody>\n",
       "</table>\n",
       "<p>5 rows × 33 columns</p>\n",
       "</div>"
      ],
      "text/plain": [
       "         0         1         2         3         4         5         6   \\\n",
       "0  4.474843 -2.447288 -2.714427 -0.542358 -2.481414  2.415414  0.698454   \n",
       "1 -0.775411 -0.370603 -3.188152  2.308298 -0.838872 -0.123995 -0.253431   \n",
       "2 -4.091826  0.885004 -0.833075 -0.885841  0.321934  0.003187 -0.312130   \n",
       "3  0.541019  0.234660  3.108269  0.741441  1.826214 -2.465304  2.906384   \n",
       "4 -0.870002 -0.695543 -0.632730 -2.218790 -3.522619 -1.493099 -2.583026   \n",
       "\n",
       "         7         8         9     ...           23        24        25  \\\n",
       "0 -0.395256 -0.895817  1.289558    ...    -0.990108 -0.454376  0.164528   \n",
       "1 -1.452447 -1.584429  0.966177    ...    -1.558851  0.421805  0.464408   \n",
       "2  0.531369  0.353865 -1.351753    ...    -0.266550 -0.326488  0.009333   \n",
       "3 -0.354032 -0.539296  0.124254    ...    -0.841053  0.343423  0.763087   \n",
       "4  3.222969  0.593771  0.782427    ...    -0.608046  0.090432 -0.238749   \n",
       "\n",
       "         26        27        28        29        30        31        32  \n",
       "0  0.015550  0.125879 -0.043326  1.011291  0.113938 -0.555400 -0.921542  \n",
       "1  0.047056  0.408833  1.268271 -0.481409  0.012907  0.445165 -0.469400  \n",
       "2 -0.307130  0.670277  0.135186 -0.498127 -0.417662 -1.000121 -1.017008  \n",
       "3  0.200864  0.322092 -0.276473 -0.052130 -0.981843  0.007985  0.492451  \n",
       "4  0.358219 -1.364822  0.519193 -1.087383  0.067735 -0.491014 -0.086026  \n",
       "\n",
       "[5 rows x 33 columns]"
      ]
     },
     "execution_count": 248,
     "metadata": {},
     "output_type": "execute_result"
    }
   ],
   "source": [
    "pca_data_ = pd.DataFrame(pca_data)\n",
    "pca_data.head()"
   ]
  },
  {
   "cell_type": "markdown",
   "metadata": {},
   "source": [
    "### Discussion 2.3: Interpret Principal Components\n",
    "\n",
    "The correlation between the components is different based on the given weight. In the first run there is positive correlation between: PLZ8_ANTG3, PLZ8_ANTG4 and wealth. while the high negative corrolation between these columns: life_stage, BALLRAUM and GEBAEUDETYP_RASTER. "
   ]
  },
  {
   "cell_type": "markdown",
   "metadata": {},
   "source": [
    "## Step 3: Clustering\n",
    "\n",
    "### Step 3.1: Apply Clustering to General Population\n",
    "\n",
    "You've assessed and cleaned the demographics data, then scaled and transformed them. Now, it's time to see how the data clusters in the principal components space. In this substep, you will apply k-means clustering to the dataset and use the average within-cluster distances from each point to their assigned cluster's centroid to decide on a number of clusters to keep.\n",
    "\n",
    "- Use sklearn's [KMeans](http://scikit-learn.org/stable/modules/generated/sklearn.cluster.KMeans.html#sklearn.cluster.KMeans) class to perform k-means clustering on the PCA-transformed data.\n",
    "- Then, compute the average difference from each point to its assigned cluster's center. **Hint**: The KMeans object's `.score()` method might be useful here, but note that in sklearn, scores tend to be defined so that larger is better. Try applying it to a small, toy dataset, or use an internet search to help your understanding.\n",
    "- Perform the above two steps for a number of different cluster counts. You can then see how the average distance decreases with an increasing number of clusters. However, each additional cluster provides a smaller net benefit. Use this fact to select a final number of clusters in which to group the data. **Warning**: because of the large size of the dataset, it can take a long time for the algorithm to resolve. The more clusters to fit, the longer the algorithm will take. You should test for cluster counts through at least 10 clusters to get the full picture, but you shouldn't need to test for a number of clusters above about 30.\n",
    "- Once you've selected a final number of clusters to use, re-fit a KMeans instance to perform the clustering operation. Make sure that you also obtain the cluster assignments for the general demographics data, since you'll be using them in the final Step 3.3."
   ]
  },
  {
   "cell_type": "code",
   "execution_count": 200,
   "metadata": {},
   "outputs": [
    {
     "name": "stdout",
     "output_type": "stream",
     "text": [
      "Running Score for 6 Clusters: 32071445.91\n",
      "Running Score for 7 Clusters: 30956861.70\n",
      "Running Score for 8 Clusters: 30066347.80\n",
      "Running Score for 9 Clusters: 29483718.14\n",
      "Running Score for 10 Clusters: 28735328.00\n",
      "Running Score for 11 Clusters: 28232088.88\n"
     ]
    }
   ],
   "source": [
    "# Over a number of different cluster counts...\n",
    "scores= []\n",
    "clusters = np.arange(2,15)\n",
    "\n",
    "    # run k-meaans clustering on the data and...\n",
    "for i in clusters:\n",
    "    \n",
    "    model = KMeans(i)\n",
    "    model.fit(pca_data)\n",
    "    \n",
    "    # compute the average within-cluster distances.\n",
    "    ## Score is sum of squared distances to a sample's assigned centroid\n",
    "    scores.append(abs(model.score(pca_data)))\n",
    "    \n",
    "    print(f'Running Score for {i} Clusters: {abs(model.score(pca_data)):.2f}')"
   ]
  },
  {
   "cell_type": "code",
   "execution_count": 201,
   "metadata": {},
   "outputs": [
    {
     "data": {
      "image/png": "[encoded data removed]",
      "text/plain": [
       "<matplotlib.figure.Figure at 0x7f09bf0e66a0>"
      ]
     },
     "metadata": {
      "needs_background": "light"
     },
     "output_type": "display_data"
    }
   ],
   "source": [
    "# Investigate the change in within-cluster distance across number of clusters.\n",
    "# HINT: Use matplotlib's plot function to visualize this relationship.\n",
    "\n",
    "plt.figure(figsize=(12,6))\n",
    "plt.plot(clusters, scores, color='black', marker= 'o', mfc='red')\n",
    "plt.xlabel(\"Num of Clusters\")\n",
    "plt.ylabel(\"Sum of Square Distance\")\n",
    "plt.title('The relationship between the number of clusters and the distance within the cluster' \"\\n\")\n",
    "plt.show()\n",
    "\n"
   ]
  },
  {
   "cell_type": "code",
   "execution_count": 249,
   "metadata": {},
   "outputs": [],
   "source": [
    "# Re-fit the k-means model with the selected number of clusters and obtain\n",
    "# cluster predictions for the general population demographics data.\n",
    "\n",
    "p_kmeans= KMeans(12)\n",
    "p_model= p_kmeans.fit(pca_data)\n",
    "p_p_cluster= p_model.predict(pca_data)\n"
   ]
  },
  {
   "cell_type": "code",
   "execution_count": 250,
   "metadata": {},
   "outputs": [
    {
     "data": {
      "text/plain": [
       "6     87465\n",
       "9     84552\n",
       "8     83947\n",
       "5     83563\n",
       "7     83557\n",
       "3     78261\n",
       "10    67214\n",
       "1     66540\n",
       "2     56843\n",
       "0     55819\n",
       "4     46684\n",
       "11     3236\n",
       "Name: public_cluster, dtype: int64"
      ]
     },
     "execution_count": 250,
     "metadata": {},
     "output_type": "execute_result"
    }
   ],
   "source": [
    "#save predicted public clusters in df\n",
    "\n",
    "public_data= pd.DataFrame(p_p_cluster, columns=['public_cluster'])\n",
    "public_data['public_cluster'].value_counts()"
   ]
  },
  {
   "cell_type": "markdown",
   "metadata": {},
   "source": [
    "### Discussion 3.1: Apply Clustering to General Population\n",
    "\n",
    "The change in distances within the decreases when we add more cluster until it becomes stable therefore we chose the point in the previous chart where the change will be small and stable after it and it indicates to 12 clusters."
   ]
  },
  {
   "cell_type": "markdown",
   "metadata": {},
   "source": [
    "### Step 3.2: Apply All Steps to the Customer Data\n",
    "\n",
    "Now that you have clusters and cluster centers for the general population, it's time to see how the customer data maps on to those clusters. Take care to not confuse this for re-fitting all of the models to the customer data. Instead, you're going to use the fits from the general population to clean, transform, and cluster the customer data. In the last step of the project, you will interpret how the general population fits apply to the customer data.\n",
    "\n",
    "- Don't forget when loading in the customers data, that it is semicolon (`;`) delimited.\n",
    "- Apply the same feature wrangling, selection, and engineering steps to the customer demographics using the `clean_data()` function you created earlier. (You can assume that the customer demographics data has similar meaning behind missing data patterns as the general demographics data.)\n",
    "- Use the sklearn objects from the general demographics data, and apply their transformations to the customers data. That is, you should not be using a `.fit()` or `.fit_transform()` method to re-fit the old objects, nor should you be creating new sklearn objects! Carry the data through the feature scaling, PCA, and clustering steps, obtaining cluster assignments for all of the data in the customer demographics data."
   ]
  },
  {
   "cell_type": "code",
   "execution_count": 204,
   "metadata": {},
   "outputs": [],
   "source": [
    "# Load in the customer demographics data.\n",
    "\n",
    "customers = pd.read_csv('Udacity_CUSTOMERS_Subset.csv', sep= ';')"
   ]
  },
  {
   "cell_type": "code",
   "execution_count": 205,
   "metadata": {},
   "outputs": [
    {
     "data": {
      "text/plain": [
       "(191652, 85)"
      ]
     },
     "execution_count": 205,
     "metadata": {},
     "output_type": "execute_result"
    }
   ],
   "source": [
    "customers.shape"
   ]
  },
  {
   "cell_type": "code",
   "execution_count": 206,
   "metadata": {},
   "outputs": [
    {
     "data": {
      "text/plain": [
       "(141411, 66)"
      ]
     },
     "execution_count": 206,
     "metadata": {},
     "output_type": "execute_result"
    }
   ],
   "source": [
    "# Apply preprocessing, feature transformation, and clustering from the general\n",
    "# demographics onto the customer data, obtaining cluster predictions for the\n",
    "# customer demographics data.\n",
    "\n",
    "customers= clean_data(customers)\n",
    "customers.shape"
   ]
  },
  {
   "cell_type": "code",
   "execution_count": 207,
   "metadata": {},
   "outputs": [
    {
     "data": {
      "text/plain": [
       "1232286"
      ]
     },
     "execution_count": 207,
     "metadata": {},
     "output_type": "execute_result"
    }
   ],
   "source": [
    "#check the null values \n",
    "\n",
    "customers.isna().sum().sum()"
   ]
  },
  {
   "cell_type": "code",
   "execution_count": 208,
   "metadata": {},
   "outputs": [],
   "source": [
    "#imputer\n",
    "\n",
    "imputed_customer_data= imputer.transform(customers)"
   ]
  },
  {
   "cell_type": "code",
   "execution_count": 209,
   "metadata": {},
   "outputs": [
    {
     "data": {
      "text/html": [
       "<div>\n",
       "<style scoped>\n",
       "    .dataframe tbody tr th:only-of-type {\n",
       "        vertical-align: middle;\n",
       "    }\n",
       "\n",
       "    .dataframe tbody tr th {\n",
       "        vertical-align: top;\n",
       "    }\n",
       "\n",
       "    .dataframe thead th {\n",
       "        text-align: right;\n",
       "    }\n",
       "</style>\n",
       "<table border=\"1\" class=\"dataframe\">\n",
       "  <thead>\n",
       "    <tr style=\"text-align: right;\">\n",
       "      <th></th>\n",
       "      <th>ALTERSKATEGORIE_GROB</th>\n",
       "      <th>ANREDE_KZ</th>\n",
       "      <th>FINANZ_MINIMALIST</th>\n",
       "      <th>FINANZ_SPARER</th>\n",
       "      <th>FINANZ_VORSORGER</th>\n",
       "      <th>FINANZ_ANLEGER</th>\n",
       "      <th>FINANZ_UNAUFFAELLIGER</th>\n",
       "      <th>FINANZ_HAUSBAUER</th>\n",
       "      <th>GEBURTSJAHR</th>\n",
       "      <th>GREEN_AVANTGARDE</th>\n",
       "      <th>...</th>\n",
       "      <th>PLZ8_ANTG4</th>\n",
       "      <th>PLZ8_HHZ</th>\n",
       "      <th>PLZ8_GBZ</th>\n",
       "      <th>ARBEIT</th>\n",
       "      <th>ORTSGR_KLS9</th>\n",
       "      <th>RELAT_AB</th>\n",
       "      <th>generation_by_decade</th>\n",
       "      <th>generation_by_movement</th>\n",
       "      <th>wealth</th>\n",
       "      <th>life_stage</th>\n",
       "    </tr>\n",
       "  </thead>\n",
       "  <tbody>\n",
       "    <tr>\n",
       "      <th>count</th>\n",
       "      <td>141411.00</td>\n",
       "      <td>141411.00</td>\n",
       "      <td>141411.00</td>\n",
       "      <td>141411.00</td>\n",
       "      <td>141411.00</td>\n",
       "      <td>141411.00</td>\n",
       "      <td>141411.00</td>\n",
       "      <td>141411.00</td>\n",
       "      <td>141411.00</td>\n",
       "      <td>141411.00</td>\n",
       "      <td>...</td>\n",
       "      <td>141411.00</td>\n",
       "      <td>141411.00</td>\n",
       "      <td>141411.00</td>\n",
       "      <td>141411.00</td>\n",
       "      <td>141411.00</td>\n",
       "      <td>141411.00</td>\n",
       "      <td>141411.00</td>\n",
       "      <td>141411.00</td>\n",
       "      <td>141411.00</td>\n",
       "      <td>141411.00</td>\n",
       "    </tr>\n",
       "    <tr>\n",
       "      <th>mean</th>\n",
       "      <td>0.68</td>\n",
       "      <td>-0.38</td>\n",
       "      <td>0.88</td>\n",
       "      <td>-0.87</td>\n",
       "      <td>0.82</td>\n",
       "      <td>-0.84</td>\n",
       "      <td>-0.57</td>\n",
       "      <td>-0.27</td>\n",
       "      <td>-0.85</td>\n",
       "      <td>0.67</td>\n",
       "      <td>...</td>\n",
       "      <td>0.51</td>\n",
       "      <td>0.02</td>\n",
       "      <td>0.22</td>\n",
       "      <td>-0.34</td>\n",
       "      <td>-0.22</td>\n",
       "      <td>-0.13</td>\n",
       "      <td>-0.99</td>\n",
       "      <td>0.48</td>\n",
       "      <td>-0.46</td>\n",
       "      <td>0.33</td>\n",
       "    </tr>\n",
       "    <tr>\n",
       "      <th>std</th>\n",
       "      <td>0.72</td>\n",
       "      <td>0.94</td>\n",
       "      <td>0.74</td>\n",
       "      <td>0.56</td>\n",
       "      <td>0.61</td>\n",
       "      <td>0.68</td>\n",
       "      <td>0.70</td>\n",
       "      <td>0.94</td>\n",
       "      <td>1.07</td>\n",
       "      <td>1.21</td>\n",
       "      <td>...</td>\n",
       "      <td>0.37</td>\n",
       "      <td>0.96</td>\n",
       "      <td>0.91</td>\n",
       "      <td>1.01</td>\n",
       "      <td>0.79</td>\n",
       "      <td>1.04</td>\n",
       "      <td>0.94</td>\n",
       "      <td>1.19</td>\n",
       "      <td>0.96</td>\n",
       "      <td>0.90</td>\n",
       "    </tr>\n",
       "    <tr>\n",
       "      <th>min</th>\n",
       "      <td>-1.77</td>\n",
       "      <td>-1.04</td>\n",
       "      <td>-1.49</td>\n",
       "      <td>-1.16</td>\n",
       "      <td>-1.77</td>\n",
       "      <td>-1.25</td>\n",
       "      <td>-1.18</td>\n",
       "      <td>-1.50</td>\n",
       "      <td>-4.85</td>\n",
       "      <td>-0.53</td>\n",
       "      <td>...</td>\n",
       "      <td>0.41</td>\n",
       "      <td>-2.73</td>\n",
       "      <td>-2.16</td>\n",
       "      <td>-2.17</td>\n",
       "      <td>-1.87</td>\n",
       "      <td>-1.53</td>\n",
       "      <td>-2.32</td>\n",
       "      <td>-0.53</td>\n",
       "      <td>-1.55</td>\n",
       "      <td>-1.27</td>\n",
       "    </tr>\n",
       "    <tr>\n",
       "      <th>25%</th>\n",
       "      <td>0.20</td>\n",
       "      <td>-1.04</td>\n",
       "      <td>0.68</td>\n",
       "      <td>-1.16</td>\n",
       "      <td>0.41</td>\n",
       "      <td>-1.25</td>\n",
       "      <td>-1.18</td>\n",
       "      <td>-0.79</td>\n",
       "      <td>-1.83</td>\n",
       "      <td>-0.53</td>\n",
       "      <td>...</td>\n",
       "      <td>0.41</td>\n",
       "      <td>-0.65</td>\n",
       "      <td>-0.34</td>\n",
       "      <td>-1.17</td>\n",
       "      <td>-0.56</td>\n",
       "      <td>-0.79</td>\n",
       "      <td>-1.62</td>\n",
       "      <td>-0.53</td>\n",
       "      <td>-1.55</td>\n",
       "      <td>-0.59</td>\n",
       "    </tr>\n",
       "    <tr>\n",
       "      <th>50%</th>\n",
       "      <td>1.18</td>\n",
       "      <td>-1.04</td>\n",
       "      <td>1.41</td>\n",
       "      <td>-1.16</td>\n",
       "      <td>1.14</td>\n",
       "      <td>-1.25</td>\n",
       "      <td>-0.47</td>\n",
       "      <td>-0.79</td>\n",
       "      <td>-0.61</td>\n",
       "      <td>-0.53</td>\n",
       "      <td>...</td>\n",
       "      <td>0.41</td>\n",
       "      <td>0.39</td>\n",
       "      <td>0.57</td>\n",
       "      <td>-0.17</td>\n",
       "      <td>-0.13</td>\n",
       "      <td>-0.05</td>\n",
       "      <td>-0.92</td>\n",
       "      <td>-0.53</td>\n",
       "      <td>-0.87</td>\n",
       "      <td>0.76</td>\n",
       "    </tr>\n",
       "    <tr>\n",
       "      <th>75%</th>\n",
       "      <td>1.18</td>\n",
       "      <td>0.96</td>\n",
       "      <td>1.41</td>\n",
       "      <td>-0.48</td>\n",
       "      <td>1.14</td>\n",
       "      <td>-0.57</td>\n",
       "      <td>-0.47</td>\n",
       "      <td>0.63</td>\n",
       "      <td>0.04</td>\n",
       "      <td>1.88</td>\n",
       "      <td>...</td>\n",
       "      <td>0.41</td>\n",
       "      <td>0.39</td>\n",
       "      <td>0.57</td>\n",
       "      <td>0.84</td>\n",
       "      <td>0.31</td>\n",
       "      <td>0.68</td>\n",
       "      <td>-0.22</td>\n",
       "      <td>1.88</td>\n",
       "      <td>0.50</td>\n",
       "      <td>0.76</td>\n",
       "    </tr>\n",
       "    <tr>\n",
       "      <th>max</th>\n",
       "      <td>1.18</td>\n",
       "      <td>0.96</td>\n",
       "      <td>1.41</td>\n",
       "      <td>1.54</td>\n",
       "      <td>1.14</td>\n",
       "      <td>1.47</td>\n",
       "      <td>1.67</td>\n",
       "      <td>1.34</td>\n",
       "      <td>3.56</td>\n",
       "      <td>1.88</td>\n",
       "      <td>...</td>\n",
       "      <td>1.80</td>\n",
       "      <td>1.43</td>\n",
       "      <td>1.49</td>\n",
       "      <td>1.84</td>\n",
       "      <td>1.18</td>\n",
       "      <td>1.42</td>\n",
       "      <td>1.17</td>\n",
       "      <td>1.88</td>\n",
       "      <td>1.19</td>\n",
       "      <td>1.44</td>\n",
       "    </tr>\n",
       "  </tbody>\n",
       "</table>\n",
       "<p>8 rows × 66 columns</p>\n",
       "</div>"
      ],
      "text/plain": [
       "       ALTERSKATEGORIE_GROB  ANREDE_KZ  FINANZ_MINIMALIST  FINANZ_SPARER  \\\n",
       "count             141411.00  141411.00          141411.00      141411.00   \n",
       "mean                   0.68      -0.38               0.88          -0.87   \n",
       "std                    0.72       0.94               0.74           0.56   \n",
       "min                   -1.77      -1.04              -1.49          -1.16   \n",
       "25%                    0.20      -1.04               0.68          -1.16   \n",
       "50%                    1.18      -1.04               1.41          -1.16   \n",
       "75%                    1.18       0.96               1.41          -0.48   \n",
       "max                    1.18       0.96               1.41           1.54   \n",
       "\n",
       "       FINANZ_VORSORGER  FINANZ_ANLEGER  FINANZ_UNAUFFAELLIGER  \\\n",
       "count         141411.00       141411.00              141411.00   \n",
       "mean               0.82           -0.84                  -0.57   \n",
       "std                0.61            0.68                   0.70   \n",
       "min               -1.77           -1.25                  -1.18   \n",
       "25%                0.41           -1.25                  -1.18   \n",
       "50%                1.14           -1.25                  -0.47   \n",
       "75%                1.14           -0.57                  -0.47   \n",
       "max                1.14            1.47                   1.67   \n",
       "\n",
       "       FINANZ_HAUSBAUER  GEBURTSJAHR  GREEN_AVANTGARDE     ...      \\\n",
       "count         141411.00    141411.00         141411.00     ...       \n",
       "mean              -0.27        -0.85              0.67     ...       \n",
       "std                0.94         1.07              1.21     ...       \n",
       "min               -1.50        -4.85             -0.53     ...       \n",
       "25%               -0.79        -1.83             -0.53     ...       \n",
       "50%               -0.79        -0.61             -0.53     ...       \n",
       "75%                0.63         0.04              1.88     ...       \n",
       "max                1.34         3.56              1.88     ...       \n",
       "\n",
       "       PLZ8_ANTG4   PLZ8_HHZ   PLZ8_GBZ     ARBEIT  ORTSGR_KLS9   RELAT_AB  \\\n",
       "count   141411.00  141411.00  141411.00  141411.00    141411.00  141411.00   \n",
       "mean         0.51       0.02       0.22      -0.34        -0.22      -0.13   \n",
       "std          0.37       0.96       0.91       1.01         0.79       1.04   \n",
       "min          0.41      -2.73      -2.16      -2.17        -1.87      -1.53   \n",
       "25%          0.41      -0.65      -0.34      -1.17        -0.56      -0.79   \n",
       "50%          0.41       0.39       0.57      -0.17        -0.13      -0.05   \n",
       "75%          0.41       0.39       0.57       0.84         0.31       0.68   \n",
       "max          1.80       1.43       1.49       1.84         1.18       1.42   \n",
       "\n",
       "       generation_by_decade  generation_by_movement     wealth  life_stage  \n",
       "count             141411.00               141411.00  141411.00   141411.00  \n",
       "mean                  -0.99                    0.48      -0.46        0.33  \n",
       "std                    0.94                    1.19       0.96        0.90  \n",
       "min                   -2.32                   -0.53      -1.55       -1.27  \n",
       "25%                   -1.62                   -0.53      -1.55       -0.59  \n",
       "50%                   -0.92                   -0.53      -0.87        0.76  \n",
       "75%                   -0.22                    1.88       0.50        0.76  \n",
       "max                    1.17                    1.88       1.19        1.44  \n",
       "\n",
       "[8 rows x 66 columns]"
      ]
     },
     "execution_count": 209,
     "metadata": {},
     "output_type": "execute_result"
    }
   ],
   "source": [
    "#scaler\n",
    "\n",
    "scaled_customer_data = scaler.transform(imputed_customer_data)\n",
    "#check data after scaling\n",
    "scaled_customer_data= pd.DataFrame(scaled_customer_data, columns=customers.columns)\n",
    "round(scaled_customer_data.describe(),2)"
   ]
  },
  {
   "cell_type": "code",
   "execution_count": 251,
   "metadata": {},
   "outputs": [],
   "source": [
    "#pca\n",
    "\n",
    "pca_customer_data = pca.transform(scaled_customer_data)"
   ]
  },
  {
   "cell_type": "code",
   "execution_count": 252,
   "metadata": {},
   "outputs": [],
   "source": [
    "#model\n",
    "\n",
    "p_c_cluster= p_model.predict(pca_customer_data)"
   ]
  },
  {
   "cell_type": "code",
   "execution_count": 253,
   "metadata": {},
   "outputs": [
    {
     "data": {
      "text/plain": [
       "2     43981\n",
       "5     26910\n",
       "0     15853\n",
       "8     15146\n",
       "9     12721\n",
       "3     11237\n",
       "4      4507\n",
       "1      3214\n",
       "11     2775\n",
       "6      2292\n",
       "10     1390\n",
       "7      1385\n",
       "Name: customer_cluster, dtype: int64"
      ]
     },
     "execution_count": 253,
     "metadata": {},
     "output_type": "execute_result"
    }
   ],
   "source": [
    "# save in df\n",
    "\n",
    "customer_data= pd.DataFrame(p_c_cluster, columns=['customer_cluster'])\n",
    "customer_data['customer_cluster'].value_counts()"
   ]
  },
  {
   "cell_type": "code",
   "execution_count": 223,
   "metadata": {},
   "outputs": [
    {
     "data": {
      "text/plain": [
       "(141411, 1)"
      ]
     },
     "execution_count": 223,
     "metadata": {},
     "output_type": "execute_result"
    }
   ],
   "source": [
    "customer_data.shape"
   ]
  },
  {
   "cell_type": "markdown",
   "metadata": {},
   "source": [
    "### Step 3.3: Compare Customer Data to Demographics Data\n",
    "\n",
    "At this point, you have clustered data based on demographics of the general population of Germany, and seen how the customer data for a mail-order sales company maps onto those demographic clusters. In this final substep, you will compare the two cluster distributions to see where the strongest customer base for the company is.\n",
    "\n",
    "Consider the proportion of persons in each cluster for the general population, and the proportions for the customers. If we think the company's customer base to be universal, then the cluster assignment proportions should be fairly similar between the two. If there are only particular segments of the population that are interested in the company's products, then we should see a mismatch from one to the other. If there is a higher proportion of persons in a cluster for the customer data compared to the general population (e.g. 5% of persons are assigned to a cluster for the general population, but 15% of the customer data is closest to that cluster's centroid) then that suggests the people in that cluster to be a target audience for the company. On the other hand, the proportion of the data in a cluster being larger in the general population than the customer data (e.g. only 2% of customers closest to a population centroid that captures 6% of the data) suggests that group of persons to be outside of the target demographics.\n",
    "\n",
    "Take a look at the following points in this step:\n",
    "\n",
    "- Compute the proportion of data points in each cluster for the general population and the customer data. Visualizations will be useful here: both for the individual dataset proportions, but also to visualize the ratios in cluster representation between groups. Seaborn's [`countplot()`](https://seaborn.pydata.org/generated/seaborn.countplot.html) or [`barplot()`](https://seaborn.pydata.org/generated/seaborn.barplot.html) function could be handy.\n",
    "  - Recall the analysis you performed in step 1.1.3 of the project, where you separated out certain data points from the dataset if they had more than a specified threshold of missing values. If you found that this group was qualitatively different from the main bulk of the data, you should treat this as an additional data cluster in this analysis. Make sure that you account for the number of data points in this subset, for both the general population and customer datasets, when making your computations!\n",
    "- Which cluster or clusters are overrepresented in the customer dataset compared to the general population? Select at least one such cluster and infer what kind of people might be represented by that cluster. Use the principal component interpretations from step 2.3 or look at additional components to help you make this inference. Alternatively, you can use the `.inverse_transform()` method of the PCA and StandardScaler objects to transform centroids back to the original data space and interpret the retrieved values directly.\n",
    "- Perform a similar investigation for the underrepresented clusters. Which cluster or clusters are underrepresented in the customer dataset compared to the general population, and what kinds of people are typified by these clusters?"
   ]
  },
  {
   "cell_type": "code",
   "execution_count": 224,
   "metadata": {},
   "outputs": [],
   "source": [
    "p_cluster= public_data['public_cluster'].value_counts()\n",
    "c_cluster= customer_data['customer_cluster'].value_counts()"
   ]
  },
  {
   "cell_type": "code",
   "execution_count": 231,
   "metadata": {},
   "outputs": [
    {
     "data": {
      "image/png": "[encoded data removed]",
      "text/plain": [
       "<matplotlib.figure.Figure at 0x7f09de32c940>"
      ]
     },
     "metadata": {
      "needs_background": "light"
     },
     "output_type": "display_data"
    }
   ],
   "source": [
    "# Compare the proportion of data in each cluster for the customer data to the\n",
    "# proportion of data in each cluster for the general population.\n",
    "f, x = plt.subplots(figsize=(14,6))\n",
    "barwidth = 0.25\n",
    "\n",
    "#position of bars\n",
    "loc= np.arange(len(p_cluster))\n",
    "\n",
    "\n",
    "x.bar( loc - barwidth/2, p_cluster,width=barwidth, color='black')\n",
    "x.bar(loc + barwidth/2, c_cluster,width=barwidth, color='grey')\n",
    "\n",
    "x.set_ylabel('total number')\n",
    "x.set_xlabel('Clusters')\n",
    "x.set_title('public Clusters Vs Customer Clusters' '\\n')\n",
    "x.set_xticks(p_cluster.index)\n",
    "\n",
    "x.legend(('p_cluster','c_cluster'))\n",
    "plt.show()\n"
   ]
  },
  {
   "cell_type": "code",
   "execution_count": 234,
   "metadata": {},
   "outputs": [
    {
     "ename": "AttributeError",
     "evalue": "'numpy.ndarray' object has no attribute 'cluster_centers_'",
     "output_type": "error",
     "traceback": [
      "\u001b[0;31m---------------------------------------------------------------------------\u001b[0m",
      "\u001b[0;31mAttributeError\u001b[0m                            Traceback (most recent call last)",
      "\u001b[0;32m<ipython-input-234-e9841538ce5e>\u001b[0m in \u001b[0;36m<module>\u001b[0;34m()\u001b[0m\n\u001b[1;32m      1\u001b[0m \u001b[0;31m# What kinds of people are part of a cluster that is overrepresented in the\u001b[0m\u001b[0;34m\u001b[0m\u001b[0;34m\u001b[0m\u001b[0m\n\u001b[1;32m      2\u001b[0m \u001b[0;31m# customer data compared to the general population?\u001b[0m\u001b[0;34m\u001b[0m\u001b[0;34m\u001b[0m\u001b[0m\n\u001b[0;32m----> 3\u001b[0;31m \u001b[0mcluster_1\u001b[0m \u001b[0;34m=\u001b[0m \u001b[0mscaler\u001b[0m\u001b[0;34m.\u001b[0m\u001b[0minverse_transform\u001b[0m\u001b[0;34m(\u001b[0m\u001b[0mpca\u001b[0m\u001b[0;34m.\u001b[0m\u001b[0minverse_transform\u001b[0m\u001b[0;34m(\u001b[0m\u001b[0mp_c_cluster\u001b[0m\u001b[0;34m.\u001b[0m\u001b[0mcluster_centers_\u001b[0m\u001b[0;34m[\u001b[0m\u001b[0;36m0\u001b[0m\u001b[0;34m]\u001b[0m\u001b[0;34m)\u001b[0m\u001b[0;34m)\u001b[0m\u001b[0;34m\u001b[0m\u001b[0m\n\u001b[0m\u001b[1;32m      4\u001b[0m \u001b[0mlarge_cluster\u001b[0m\u001b[0;34m=\u001b[0m \u001b[0mpd\u001b[0m\u001b[0;34m.\u001b[0m\u001b[0mSerise\u001b[0m\u001b[0;34m(\u001b[0m\u001b[0mdata\u001b[0m\u001b[0;34m=\u001b[0m \u001b[0mcluster_\u001b[0m\u001b[0;34m,\u001b[0m \u001b[0mindex\u001b[0m \u001b[0;34m=\u001b[0m \u001b[0mscaled_customer_data\u001b[0m\u001b[0;34m.\u001b[0m\u001b[0mcolumns\u001b[0m\u001b[0;34m)\u001b[0m\u001b[0;34m\u001b[0m\u001b[0m\n",
      "\u001b[0;31mAttributeError\u001b[0m: 'numpy.ndarray' object has no attribute 'cluster_centers_'"
     ]
    }
   ],
   "source": [
    "# What kinds of people are part of a cluster that is overrepresented in the\n",
    "# customer data compared to the general population?\n",
    "cluster_1 = scaler.inverse_transform(pca.inverse_transform(p_c_cluster.cluster_centers_[0]))\n",
    "large_cluster= pd.Serise(data= cluster_, index = scaled_customer_data.columns)"
   ]
  },
  {
   "cell_type": "code",
   "execution_count": null,
   "metadata": {},
   "outputs": [],
   "source": [
    "# What kinds of people are part of a cluster that is underrepresented in the\n",
    "# customer data compared to the general population?\n",
    "cluster_12 = scaler.inverse_transform(pca.inverse_transform(p_c_cluster.cluster_centers_[11]))\n",
    "small_cluster= pd.Serise(data= cluster_, index = scaled_customer_data.columns)\n"
   ]
  },
  {
   "cell_type": "markdown",
   "metadata": {},
   "source": [
    "### Discussion 3.3: Compare Customer Data to Demographics Data\n",
    "\n",
    "(Double-click this cell and replace this text with your own text, reporting findings and conclusions from the clustering analysis. Can we describe segments of the population that are relatively popular with the mail-order company, or relatively unpopular with the company?)"
   ]
  },
  {
   "cell_type": "markdown",
   "metadata": {},
   "source": [
    "> Congratulations on making it this far in the project! Before you finish, make sure to check through the entire notebook from top to bottom to make sure that your analysis follows a logical flow and all of your findings are documented in **Discussion** cells. Once you've checked over all of your work, you should export the notebook as an HTML document to submit for evaluation. You can do this from the menu, navigating to **File -> Download as -> HTML (.html)**. You will submit both that document and this notebook for your project submission."
   ]
  },
  {
   "cell_type": "code",
   "execution_count": null,
   "metadata": {},
   "outputs": [],
   "source": []
  }
 ],
 "metadata": {
  "kernelspec": {
   "display_name": "Python 3",
   "language": "python",
   "name": "python3"
  },
  "language_info": {
   "codemirror_mode": {
    "name": "ipython",
    "version": 3
   },
   "file_extension": ".py",
   "mimetype": "text/x-python",
   "name": "python",
   "nbconvert_exporter": "python",
   "pygments_lexer": "ipython3",
   "version": "3.7.3"
  }
 },
 "nbformat": 4,
 "nbformat_minor": 2
}
